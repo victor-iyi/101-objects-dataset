{
 "cells": [
  {
   "cell_type": "markdown",
   "metadata": {},
   "source": [
    "# Convolutional Neural Network for recognizing objects\n",
    "\n",
    "### Import dependencies"
   ]
  },
  {
   "cell_type": "code",
   "execution_count": 1,
   "metadata": {
    "collapsed": true
   },
   "outputs": [],
   "source": [
    "import os\n",
    "import sys\n",
    "import datetime as dt\n",
    "\n",
    "import numpy as np\n",
    "import tensorflow as tf\n",
    "import matplotlib.pyplot as plt\n",
    "\n",
    "from dataset import ImageDataset\n",
    "%matplotlib inline"
   ]
  },
  {
   "cell_type": "code",
   "execution_count": 2,
   "metadata": {
    "collapsed": true
   },
   "outputs": [],
   "source": [
    "data_dir = 'datasets/101_ObjectCategories/'\n",
    "save_file = 'saved/data-obj.pkl'"
   ]
  },
  {
   "cell_type": "code",
   "execution_count": 4,
   "metadata": {
    "collapsed": false,
    "scrolled": true
   },
   "outputs": [
    {
     "name": "stderr",
     "output_type": "stream",
     "text": [
      "could not broadcast input array from shape (2500) into shape (7500)could not broadcast input array from shape (2500) into shape (7500)could not broadcast input array from shape (2500) into shape (7500)"
     ]
    },
    {
     "name": "stdout",
     "output_type": "stream",
     "text": [
      "\r",
      "Processing 1 of 102 class labels & 1 of 55 images\r",
      "Processing 1 of 102 class labels & 2 of 55 images\r",
      "Processing 1 of 102 class labels & 3 of 55 images\r",
      "Processing 1 of 102 class labels & 4 of 55 images\r",
      "Processing 1 of 102 class labels & 5 of 55 images\r",
      "Processing 1 of 102 class labels & 6 of 55 images\r",
      "Processing 1 of 102 class labels & 7 of 55 images\r",
      "Processing 1 of 102 class labels & 8 of 55 images\r",
      "Processing 1 of 102 class labels & 9 of 55 images\r",
      "Processing 1 of 102 class labels & 10 of 55 images\r",
      "Processing 1 of 102 class labels & 11 of 55 images\r",
      "Processing 1 of 102 class labels & 12 of 55 images\r",
      "Processing 1 of 102 class labels & 13 of 55 images\r",
      "Processing 1 of 102 class labels & 14 of 55 images\r",
      "Processing 1 of 102 class labels & 15 of 55 images\r",
      "Processing 1 of 102 class labels & 16 of 55 images\r",
      "Processing 1 of 102 class labels & 17 of 55 images\r",
      "Processing 1 of 102 class labels & 18 of 55 images\r",
      "Processing 1 of 102 class labels & 19 of 55 images\r",
      "Processing 1 of 102 class labels & 20 of 55 images\r",
      "Processing 1 of 102 class labels & 21 of 55 images\r",
      "Processing 1 of 102 class labels & 22 of 55 images\r",
      "Processing 1 of 102 class labels & 23 of 55 images\r",
      "Processing 1 of 102 class labels & 24 of 55 images\r",
      "Processing 1 of 102 class labels & 25 of 55 images\r",
      "Processing 1 of 102 class labels & 26 of 55 images\r",
      "Processing 1 of 102 class labels & 27 of 55 images\r",
      "Processing 1 of 102 class labels & 28 of 55 images\r",
      "Processing 1 of 102 class labels & 29 of 55 images\r",
      "Processing 1 of 102 class labels & 30 of 55 images\r",
      "Processing 1 of 102 class labels & 31 of 55 images\r",
      "Processing 1 of 102 class labels & 32 of 55 images\r",
      "Processing 1 of 102 class labels & 33 of 55 images\r",
      "Processing 1 of 102 class labels & 34 of 55 images\r",
      "Processing 1 of 102 class labels & 35 of 55 images"
     ]
    },
    {
     "name": "stderr",
     "output_type": "stream",
     "text": [
      "could not broadcast input array from shape (2500) into shape (7500)could not broadcast input array from shape (2500) into shape (7500)could not broadcast input array from shape (2500) into shape (7500)"
     ]
    },
    {
     "name": "stdout",
     "output_type": "stream",
     "text": [
      "Processing 2 of 102 class labels & 780 of 800 images"
     ]
    },
    {
     "name": "stderr",
     "output_type": "stream",
     "text": [
      "could not broadcast input array from shape (2500) into shape (7500)"
     ]
    },
    {
     "name": "stdout",
     "output_type": "stream",
     "text": [
      "\r",
      "Processing 2 of 102 class labels & 781 of 800 images\r",
      "Processing 2 of 102 class labels & 782 of 800 images\r",
      "Processing 2 of 102 class labels & 783 of 800 images\r",
      "Processing 2 of 102 class labels & 784 of 800 images\r",
      "Processing 2 of 102 class labels & 785 of 800 images\r",
      "Processing 2 of 102 class labels & 786 of 800 images\r",
      "Processing 2 of 102 class labels & 787 of 800 images\r",
      "Processing 2 of 102 class labels & 788 of 800 images\r",
      "Processing 2 of 102 class labels & 789 of 800 images\r",
      "Processing 2 of 102 class labels & 790 of 800 images\r",
      "Processing 2 of 102 class labels & 791 of 800 images\r",
      "Processing 2 of 102 class labels & 792 of 800 images\r",
      "Processing 2 of 102 class labels & 793 of 800 images\r",
      "Processing 2 of 102 class labels & 794 of 800 images\r",
      "Processing 2 of 102 class labels & 795 of 800 images\r",
      "Processing 2 of 102 class labels & 796 of 800 images\r",
      "Processing 2 of 102 class labels & 797 of 800 images\r",
      "Processing 2 of 102 class labels & 798 of 800 images\r",
      "Processing 2 of 102 class labels & 799 of 800 images\r",
      "Processing 2 of 102 class labels & 800 of 800 images\r",
      "Processing 3 of 102 class labels & 1 of 42 images\r",
      "Processing 3 of 102 class labels & 2 of 42 images\r",
      "Processing 3 of 102 class labels & 3 of 42 images\r",
      "Processing 3 of 102 class labels & 4 of 42 images\r",
      "Processing 3 of 102 class labels & 5 of 42 images\r",
      "Processing 3 of 102 class labels & 6 of 42 images\r",
      "Processing 3 of 102 class labels & 7 of 42 images\r",
      "Processing 3 of 102 class labels & 8 of 42 images\r",
      "Processing 3 of 102 class labels & 9 of 42 images\r",
      "Processing 3 of 102 class labels & 10 of 42 images\r",
      "Processing 3 of 102 class labels & 11 of 42 images\r",
      "Processing 3 of 102 class labels & 12 of 42 images\r",
      "Processing 3 of 102 class labels & 13 of 42 images\r",
      "Processing 3 of 102 class labels & 14 of 42 images\r",
      "Processing 3 of 102 class labels & 15 of 42 images\r",
      "Processing 3 of 102 class labels & 16 of 42 images\r",
      "Processing 3 of 102 class labels & 17 of 42 images\r",
      "Processing 3 of 102 class labels & 18 of 42 images\r",
      "Processing 3 of 102 class labels & 19 of 42 images\r",
      "Processing 3 of 102 class labels & 20 of 42 images\r",
      "Processing 3 of 102 class labels & 21 of 42 images"
     ]
    },
    {
     "name": "stderr",
     "output_type": "stream",
     "text": [
      "could not broadcast input array from shape (2500) into shape (7500)could not broadcast input array from shape (2500) into shape (7500)could not broadcast input array from shape (2500) into shape (7500)could not broadcast input array from shape (2500) into shape (7500)"
     ]
    },
    {
     "name": "stdout",
     "output_type": "stream",
     "text": [
      "\r",
      "Processing 3 of 102 class labels & 22 of 42 images\r",
      "Processing 3 of 102 class labels & 23 of 42 images\r",
      "Processing 3 of 102 class labels & 24 of 42 images\r",
      "Processing 3 of 102 class labels & 25 of 42 images\r",
      "Processing 3 of 102 class labels & 26 of 42 images\r",
      "Processing 3 of 102 class labels & 27 of 42 images\r",
      "Processing 3 of 102 class labels & 28 of 42 images\r",
      "Processing 3 of 102 class labels & 29 of 42 images\r",
      "Processing 3 of 102 class labels & 30 of 42 images\r",
      "Processing 3 of 102 class labels & 31 of 42 images\r",
      "Processing 3 of 102 class labels & 32 of 42 images\r",
      "Processing 3 of 102 class labels & 33 of 42 images\r",
      "Processing 3 of 102 class labels & 34 of 42 images\r",
      "Processing 3 of 102 class labels & 35 of 42 images\r",
      "Processing 3 of 102 class labels & 36 of 42 images\r",
      "Processing 3 of 102 class labels & 37 of 42 images\r",
      "Processing 3 of 102 class labels & 38 of 42 images\r",
      "Processing 3 of 102 class labels & 39 of 42 images\r",
      "Processing 3 of 102 class labels & 40 of 42 images\r",
      "Processing 3 of 102 class labels & 41 of 42 images\r",
      "Processing 3 of 102 class labels & 42 of 42 images\r",
      "Processing 4 of 102 class labels & 1 of 42 images\r",
      "Processing 4 of 102 class labels & 2 of 42 images\r",
      "Processing 4 of 102 class labels & 3 of 42 images\r",
      "Processing 4 of 102 class labels & 4 of 42 images\r",
      "Processing 4 of 102 class labels & 5 of 42 images\r",
      "Processing 4 of 102 class labels & 6 of 42 images\r",
      "Processing 4 of 102 class labels & 7 of 42 images\r",
      "Processing 4 of 102 class labels & 8 of 42 images\r",
      "Processing 4 of 102 class labels & 9 of 42 images\r",
      "Processing 4 of 102 class labels & 10 of 42 images\r",
      "Processing 4 of 102 class labels & 11 of 42 images\r",
      "Processing 4 of 102 class labels & 12 of 42 images\r",
      "Processing 4 of 102 class labels & 13 of 42 images\r",
      "Processing 4 of 102 class labels & 14 of 42 images\r",
      "Processing 4 of 102 class labels & 15 of 42 images\r",
      "Processing 4 of 102 class labels & 16 of 42 images"
     ]
    },
    {
     "name": "stderr",
     "output_type": "stream",
     "text": [
      "could not broadcast input array from shape (2500) into shape (7500)could not broadcast input array from shape (2500) into shape (7500)could not broadcast input array from shape (2500) into shape (7500)could not broadcast input array from shape (2500) into shape (7500)"
     ]
    },
    {
     "name": "stdout",
     "output_type": "stream",
     "text": [
      "\r",
      "Processing 4 of 102 class labels & 17 of 42 images\r",
      "Processing 4 of 102 class labels & 18 of 42 images\r",
      "Processing 4 of 102 class labels & 19 of 42 images\r",
      "Processing 4 of 102 class labels & 20 of 42 images\r",
      "Processing 4 of 102 class labels & 21 of 42 images\r",
      "Processing 4 of 102 class labels & 22 of 42 images\r",
      "Processing 4 of 102 class labels & 23 of 42 images\r",
      "Processing 4 of 102 class labels & 24 of 42 images\r",
      "Processing 4 of 102 class labels & 25 of 42 images\r",
      "Processing 4 of 102 class labels & 26 of 42 images\r",
      "Processing 4 of 102 class labels & 27 of 42 images\r",
      "Processing 4 of 102 class labels & 28 of 42 images\r",
      "Processing 4 of 102 class labels & 29 of 42 images\r",
      "Processing 4 of 102 class labels & 30 of 42 images\r",
      "Processing 4 of 102 class labels & 31 of 42 images\r",
      "Processing 4 of 102 class labels & 32 of 42 images\r",
      "Processing 4 of 102 class labels & 33 of 42 images\r",
      "Processing 4 of 102 class labels & 34 of 42 images\r",
      "Processing 4 of 102 class labels & 35 of 42 images\r",
      "Processing 4 of 102 class labels & 36 of 42 images\r",
      "Processing 4 of 102 class labels & 37 of 42 images\r",
      "Processing 4 of 102 class labels & 38 of 42 images\r",
      "Processing 4 of 102 class labels & 39 of 42 images"
     ]
    },
    {
     "name": "stderr",
     "output_type": "stream",
     "text": [
      "could not broadcast input array from shape (2500) into shape (7500)"
     ]
    },
    {
     "name": "stdout",
     "output_type": "stream",
     "text": [
      "\r",
      "Processing 4 of 102 class labels & 40 of 42 images\r",
      "Processing 4 of 102 class labels & 41 of 42 images\r",
      "Processing 4 of 102 class labels & 42 of 42 images\r",
      "Processing 5 of 102 class labels & 1 of 468 images\r",
      "Processing 5 of 102 class labels & 2 of 468 images\r",
      "Processing 5 of 102 class labels & 3 of 468 images\r",
      "Processing 5 of 102 class labels & 4 of 468 images\r",
      "Processing 5 of 102 class labels & 5 of 468 images\r",
      "Processing 5 of 102 class labels & 6 of 468 images\r",
      "Processing 5 of 102 class labels & 7 of 468 images\r",
      "Processing 5 of 102 class labels & 8 of 468 images\r",
      "Processing 5 of 102 class labels & 9 of 468 images\r",
      "Processing 5 of 102 class labels & 10 of 468 images\r",
      "Processing 5 of 102 class labels & 11 of 468 images\r",
      "Processing 5 of 102 class labels & 12 of 468 images\r",
      "Processing 5 of 102 class labels & 13 of 468 images\r",
      "Processing 5 of 102 class labels & 14 of 468 images"
     ]
    },
    {
     "name": "stderr",
     "output_type": "stream",
     "text": [
      "could not broadcast input array from shape (2500) into shape (7500)could not broadcast input array from shape (2500) into shape (7500)could not broadcast input array from shape (2500) into shape (7500)could not broadcast input array from shape (2500) into shape (7500)"
     ]
    },
    {
     "name": "stdout",
     "output_type": "stream",
     "text": [
      "Processing 5 of 102 class labels & 50 of 468 images"
     ]
    },
    {
     "name": "stderr",
     "output_type": "stream",
     "text": [
      "could not broadcast input array from shape (2500) into shape (7500)could not broadcast input array from shape (2500) into shape (7500)"
     ]
    },
    {
     "name": "stdout",
     "output_type": "stream",
     "text": [
      "\r",
      "Processing 5 of 102 class labels & 51 of 468 images\r",
      "Processing 5 of 102 class labels & 52 of 468 images\r",
      "Processing 5 of 102 class labels & 53 of 468 images\r",
      "Processing 5 of 102 class labels & 54 of 468 images\r",
      "Processing 5 of 102 class labels & 55 of 468 images\r",
      "Processing 5 of 102 class labels & 56 of 468 images\r",
      "Processing 5 of 102 class labels & 57 of 468 images\r",
      "Processing 5 of 102 class labels & 58 of 468 images\r",
      "Processing 5 of 102 class labels & 59 of 468 images\r",
      "Processing 5 of 102 class labels & 60 of 468 images\r",
      "Processing 5 of 102 class labels & 61 of 468 images\r",
      "Processing 5 of 102 class labels & 62 of 468 images\r",
      "Processing 5 of 102 class labels & 63 of 468 images\r",
      "Processing 5 of 102 class labels & 64 of 468 images\r",
      "Processing 5 of 102 class labels & 65 of 468 images\r",
      "Processing 5 of 102 class labels & 66 of 468 images\r",
      "Processing 5 of 102 class labels & 67 of 468 images\r",
      "Processing 5 of 102 class labels & 68 of 468 images\r",
      "Processing 5 of 102 class labels & 69 of 468 images\r",
      "Processing 5 of 102 class labels & 70 of 468 images\r",
      "Processing 5 of 102 class labels & 71 of 468 images"
     ]
    },
    {
     "name": "stderr",
     "output_type": "stream",
     "text": [
      "could not broadcast input array from shape (2500) into shape (7500)"
     ]
    },
    {
     "name": "stdout",
     "output_type": "stream",
     "text": [
      "\r",
      "Processing 5 of 102 class labels & 72 of 468 images\r",
      "Processing 5 of 102 class labels & 73 of 468 images\r",
      "Processing 5 of 102 class labels & 74 of 468 images\r",
      "Processing 5 of 102 class labels & 75 of 468 images\r",
      "Processing 5 of 102 class labels & 76 of 468 images\r",
      "Processing 5 of 102 class labels & 77 of 468 images\r",
      "Processing 5 of 102 class labels & 78 of 468 images\r",
      "Processing 5 of 102 class labels & 79 of 468 images\r",
      "Processing 5 of 102 class labels & 80 of 468 images\r",
      "Processing 5 of 102 class labels & 81 of 468 images\r",
      "Processing 5 of 102 class labels & 82 of 468 images\r",
      "Processing 5 of 102 class labels & 83 of 468 images\r",
      "Processing 5 of 102 class labels & 84 of 468 images\r",
      "Processing 5 of 102 class labels & 85 of 468 images\r",
      "Processing 5 of 102 class labels & 86 of 468 images\r",
      "Processing 5 of 102 class labels & 87 of 468 images\r",
      "Processing 5 of 102 class labels & 88 of 468 images\r",
      "Processing 5 of 102 class labels & 89 of 468 images\r",
      "Processing 5 of 102 class labels & 90 of 468 images\r",
      "Processing 5 of 102 class labels & 91 of 468 images"
     ]
    },
    {
     "name": "stderr",
     "output_type": "stream",
     "text": [
      "could not broadcast input array from shape (2500) into shape (7500)"
     ]
    },
    {
     "name": "stdout",
     "output_type": "stream",
     "text": [
      "\r",
      "Processing 5 of 102 class labels & 92 of 468 images\r",
      "Processing 5 of 102 class labels & 93 of 468 images\r",
      "Processing 5 of 102 class labels & 94 of 468 images\r",
      "Processing 5 of 102 class labels & 95 of 468 images\r",
      "Processing 5 of 102 class labels & 96 of 468 images\r",
      "Processing 5 of 102 class labels & 97 of 468 images\r",
      "Processing 5 of 102 class labels & 98 of 468 images\r",
      "Processing 5 of 102 class labels & 99 of 468 images\r",
      "Processing 5 of 102 class labels & 100 of 468 images\r",
      "Processing 5 of 102 class labels & 101 of 468 images\r",
      "Processing 5 of 102 class labels & 102 of 468 images\r",
      "Processing 5 of 102 class labels & 103 of 468 images\r",
      "Processing 5 of 102 class labels & 104 of 468 images\r",
      "Processing 5 of 102 class labels & 105 of 468 images\r",
      "Processing 5 of 102 class labels & 106 of 468 images\r",
      "Processing 5 of 102 class labels & 107 of 468 images"
     ]
    },
    {
     "name": "stderr",
     "output_type": "stream",
     "text": [
      "could not broadcast input array from shape (2500) into shape (7500)"
     ]
    },
    {
     "name": "stdout",
     "output_type": "stream",
     "text": [
      "\r",
      "Processing 5 of 102 class labels & 108 of 468 images\r",
      "Processing 5 of 102 class labels & 109 of 468 images\r",
      "Processing 5 of 102 class labels & 110 of 468 images\r",
      "Processing 5 of 102 class labels & 111 of 468 images\r",
      "Processing 5 of 102 class labels & 112 of 468 images\r",
      "Processing 5 of 102 class labels & 113 of 468 images\r",
      "Processing 5 of 102 class labels & 114 of 468 images\r",
      "Processing 5 of 102 class labels & 115 of 468 images\r",
      "Processing 5 of 102 class labels & 116 of 468 images\r",
      "Processing 5 of 102 class labels & 117 of 468 images\r",
      "Processing 5 of 102 class labels & 118 of 468 images\r",
      "Processing 5 of 102 class labels & 119 of 468 images\r",
      "Processing 5 of 102 class labels & 120 of 468 images\r",
      "Processing 5 of 102 class labels & 121 of 468 images\r",
      "Processing 5 of 102 class labels & 122 of 468 images\r",
      "Processing 5 of 102 class labels & 123 of 468 images\r",
      "Processing 5 of 102 class labels & 124 of 468 images\r",
      "Processing 5 of 102 class labels & 125 of 468 images\r",
      "Processing 5 of 102 class labels & 126 of 468 images\r",
      "Processing 5 of 102 class labels & 127 of 468 images\r",
      "Processing 5 of 102 class labels & 128 of 468 images"
     ]
    },
    {
     "name": "stderr",
     "output_type": "stream",
     "text": [
      "could not broadcast input array from shape (2500) into shape (7500)could not broadcast input array from shape (2500) into shape (7500)"
     ]
    },
    {
     "name": "stdout",
     "output_type": "stream",
     "text": [
      "\r",
      "Processing 5 of 102 class labels & 129 of 468 images\r",
      "Processing 5 of 102 class labels & 130 of 468 images\r",
      "Processing 5 of 102 class labels & 131 of 468 images\r",
      "Processing 5 of 102 class labels & 132 of 468 images\r",
      "Processing 5 of 102 class labels & 133 of 468 images\r",
      "Processing 5 of 102 class labels & 134 of 468 images\r",
      "Processing 5 of 102 class labels & 135 of 468 images\r",
      "Processing 5 of 102 class labels & 136 of 468 images\r",
      "Processing 5 of 102 class labels & 137 of 468 images\r",
      "Processing 5 of 102 class labels & 138 of 468 images\r",
      "Processing 5 of 102 class labels & 139 of 468 images\r",
      "Processing 5 of 102 class labels & 140 of 468 images\r",
      "Processing 5 of 102 class labels & 141 of 468 images\r",
      "Processing 5 of 102 class labels & 142 of 468 images\r",
      "Processing 5 of 102 class labels & 143 of 468 images\r",
      "Processing 5 of 102 class labels & 144 of 468 images\r",
      "Processing 5 of 102 class labels & 145 of 468 images\r",
      "Processing 5 of 102 class labels & 146 of 468 images"
     ]
    },
    {
     "name": "stderr",
     "output_type": "stream",
     "text": [
      "could not broadcast input array from shape (2500) into shape (7500)"
     ]
    },
    {
     "name": "stdout",
     "output_type": "stream",
     "text": [
      "Processing 5 of 102 class labels & 177 of 468 images"
     ]
    },
    {
     "name": "stderr",
     "output_type": "stream",
     "text": [
      "could not broadcast input array from shape (2500) into shape (7500)could not broadcast input array from shape (2500) into shape (7500)"
     ]
    },
    {
     "name": "stdout",
     "output_type": "stream",
     "text": [
      "Processing 5 of 102 class labels & 215 of 468 images"
     ]
    },
    {
     "name": "stderr",
     "output_type": "stream",
     "text": [
      "could not broadcast input array from shape (2500) into shape (7500)could not broadcast input array from shape (2500) into shape (7500)"
     ]
    },
    {
     "name": "stdout",
     "output_type": "stream",
     "text": [
      "Processing 5 of 102 class labels & 248 of 468 images"
     ]
    },
    {
     "name": "stderr",
     "output_type": "stream",
     "text": [
      "could not broadcast input array from shape (2500) into shape (7500)could not broadcast input array from shape (2500) into shape (7500)"
     ]
    },
    {
     "name": "stdout",
     "output_type": "stream",
     "text": [
      "Processing 5 of 102 class labels & 272 of 468 images"
     ]
    },
    {
     "name": "stderr",
     "output_type": "stream",
     "text": [
      "could not broadcast input array from shape (2500) into shape (7500)could not broadcast input array from shape (2500) into shape (7500)"
     ]
    },
    {
     "name": "stdout",
     "output_type": "stream",
     "text": [
      "Processing 5 of 102 class labels & 303 of 468 images"
     ]
    },
    {
     "name": "stderr",
     "output_type": "stream",
     "text": [
      "could not broadcast input array from shape (2500) into shape (7500)"
     ]
    },
    {
     "name": "stdout",
     "output_type": "stream",
     "text": [
      "\r",
      "Processing 5 of 102 class labels & 304 of 468 images\r",
      "Processing 5 of 102 class labels & 305 of 468 images\r",
      "Processing 5 of 102 class labels & 306 of 468 images\r",
      "Processing 5 of 102 class labels & 307 of 468 images\r",
      "Processing 5 of 102 class labels & 308 of 468 images\r",
      "Processing 5 of 102 class labels & 309 of 468 images\r",
      "Processing 5 of 102 class labels & 310 of 468 images\r",
      "Processing 5 of 102 class labels & 311 of 468 images\r",
      "Processing 5 of 102 class labels & 312 of 468 images\r",
      "Processing 5 of 102 class labels & 313 of 468 images\r",
      "Processing 5 of 102 class labels & 314 of 468 images"
     ]
    },
    {
     "name": "stderr",
     "output_type": "stream",
     "text": [
      "could not broadcast input array from shape (2500) into shape (7500)could not broadcast input array from shape (2500) into shape (7500)could not broadcast input array from shape (2500) into shape (7500)"
     ]
    },
    {
     "name": "stdout",
     "output_type": "stream",
     "text": [
      "Processing 5 of 102 class labels & 413 of 468 images"
     ]
    },
    {
     "name": "stderr",
     "output_type": "stream",
     "text": [
      "could not broadcast input array from shape (2500) into shape (7500)could not broadcast input array from shape (2500) into shape (7500)could not broadcast input array from shape (2500) into shape (7500)could not broadcast input array from shape (2500) into shape (7500)"
     ]
    },
    {
     "name": "stdout",
     "output_type": "stream",
     "text": [
      "\r",
      "Processing 5 of 102 class labels & 414 of 468 images\r",
      "Processing 5 of 102 class labels & 415 of 468 images\r",
      "Processing 5 of 102 class labels & 416 of 468 images\r",
      "Processing 5 of 102 class labels & 417 of 468 images\r",
      "Processing 5 of 102 class labels & 418 of 468 images\r",
      "Processing 5 of 102 class labels & 419 of 468 images\r",
      "Processing 5 of 102 class labels & 420 of 468 images\r",
      "Processing 5 of 102 class labels & 421 of 468 images\r",
      "Processing 5 of 102 class labels & 422 of 468 images\r",
      "Processing 5 of 102 class labels & 423 of 468 images\r",
      "Processing 5 of 102 class labels & 424 of 468 images\r",
      "Processing 5 of 102 class labels & 425 of 468 images\r",
      "Processing 5 of 102 class labels & 426 of 468 images\r",
      "Processing 5 of 102 class labels & 427 of 468 images\r",
      "Processing 5 of 102 class labels & 428 of 468 images\r",
      "Processing 5 of 102 class labels & 429 of 468 images\r",
      "Processing 5 of 102 class labels & 430 of 468 images\r",
      "Processing 5 of 102 class labels & 431 of 468 images\r",
      "Processing 5 of 102 class labels & 432 of 468 images\r",
      "Processing 5 of 102 class labels & 433 of 468 images\r",
      "Processing 5 of 102 class labels & 434 of 468 images\r",
      "Processing 5 of 102 class labels & 435 of 468 images\r",
      "Processing 5 of 102 class labels & 436 of 468 images\r",
      "Processing 5 of 102 class labels & 437 of 468 images\r",
      "Processing 5 of 102 class labels & 438 of 468 images\r",
      "Processing 5 of 102 class labels & 439 of 468 images\r",
      "Processing 5 of 102 class labels & 440 of 468 images\r",
      "Processing 5 of 102 class labels & 441 of 468 images\r",
      "Processing 5 of 102 class labels & 442 of 468 images\r",
      "Processing 5 of 102 class labels & 443 of 468 images\r",
      "Processing 5 of 102 class labels & 444 of 468 images\r",
      "Processing 5 of 102 class labels & 445 of 468 images\r",
      "Processing 5 of 102 class labels & 446 of 468 images\r",
      "Processing 5 of 102 class labels & 447 of 468 images\r",
      "Processing 5 of 102 class labels & 448 of 468 images\r",
      "Processing 5 of 102 class labels & 449 of 468 images\r",
      "Processing 5 of 102 class labels & 450 of 468 images"
     ]
    },
    {
     "name": "stderr",
     "output_type": "stream",
     "text": [
      "could not broadcast input array from shape (2500) into shape (7500)"
     ]
    },
    {
     "name": "stdout",
     "output_type": "stream",
     "text": [
      "Processing 6 of 102 class labels & 34 of 47 imageses"
     ]
    },
    {
     "name": "stderr",
     "output_type": "stream",
     "text": [
      "could not broadcast input array from shape (2500) into shape (7500)could not broadcast input array from shape (2500) into shape (7500)could not broadcast input array from shape (2500) into shape (7500)could not broadcast input array from shape (2500) into shape (7500)could not broadcast input array from shape (2500) into shape (7500)"
     ]
    },
    {
     "name": "stdout",
     "output_type": "stream",
     "text": [
      "\r",
      "Processing 6 of 102 class labels & 35 of 47 images\r",
      "Processing 6 of 102 class labels & 36 of 47 images\r",
      "Processing 6 of 102 class labels & 37 of 47 images\r",
      "Processing 6 of 102 class labels & 38 of 47 images\r",
      "Processing 6 of 102 class labels & 39 of 47 images\r",
      "Processing 6 of 102 class labels & 40 of 47 images\r",
      "Processing 6 of 102 class labels & 41 of 47 images\r",
      "Processing 6 of 102 class labels & 42 of 47 images\r",
      "Processing 6 of 102 class labels & 43 of 47 images\r",
      "Processing 6 of 102 class labels & 44 of 47 images\r",
      "Processing 6 of 102 class labels & 45 of 47 images\r",
      "Processing 6 of 102 class labels & 46 of 47 images\r",
      "Processing 6 of 102 class labels & 47 of 47 images\r",
      "Processing 7 of 102 class labels & 1 of 54 images\r",
      "Processing 7 of 102 class labels & 2 of 54 images\r",
      "Processing 7 of 102 class labels & 3 of 54 images\r",
      "Processing 7 of 102 class labels & 4 of 54 images\r",
      "Processing 7 of 102 class labels & 5 of 54 images\r",
      "Processing 7 of 102 class labels & 6 of 54 images\r",
      "Processing 7 of 102 class labels & 7 of 54 images\r",
      "Processing 7 of 102 class labels & 8 of 54 images\r",
      "Processing 7 of 102 class labels & 9 of 54 images\r",
      "Processing 7 of 102 class labels & 10 of 54 images\r",
      "Processing 7 of 102 class labels & 11 of 54 images\r",
      "Processing 7 of 102 class labels & 12 of 54 images\r",
      "Processing 7 of 102 class labels & 13 of 54 images\r",
      "Processing 7 of 102 class labels & 14 of 54 images\r",
      "Processing 7 of 102 class labels & 15 of 54 images\r",
      "Processing 7 of 102 class labels & 16 of 54 images\r",
      "Processing 7 of 102 class labels & 17 of 54 images\r",
      "Processing 7 of 102 class labels & 18 of 54 images\r",
      "Processing 7 of 102 class labels & 19 of 54 images\r",
      "Processing 7 of 102 class labels & 20 of 54 images\r",
      "Processing 7 of 102 class labels & 21 of 54 images\r",
      "Processing 7 of 102 class labels & 22 of 54 images\r",
      "Processing 7 of 102 class labels & 23 of 54 images\r",
      "Processing 7 of 102 class labels & 24 of 54 images\r",
      "Processing 7 of 102 class labels & 25 of 54 images\r",
      "Processing 7 of 102 class labels & 26 of 54 images\r",
      "Processing 7 of 102 class labels & 27 of 54 images\r",
      "Processing 7 of 102 class labels & 28 of 54 images\r",
      "Processing 7 of 102 class labels & 29 of 54 images"
     ]
    },
    {
     "name": "stderr",
     "output_type": "stream",
     "text": [
      "could not broadcast input array from shape (2500) into shape (7500)"
     ]
    },
    {
     "name": "stdout",
     "output_type": "stream",
     "text": [
      "\r",
      "Processing 7 of 102 class labels & 30 of 54 images\r",
      "Processing 7 of 102 class labels & 31 of 54 images\r",
      "Processing 7 of 102 class labels & 32 of 54 images\r",
      "Processing 7 of 102 class labels & 33 of 54 images\r",
      "Processing 7 of 102 class labels & 34 of 54 images\r",
      "Processing 7 of 102 class labels & 35 of 54 images\r",
      "Processing 7 of 102 class labels & 36 of 54 images\r",
      "Processing 7 of 102 class labels & 37 of 54 images\r",
      "Processing 7 of 102 class labels & 38 of 54 images\r",
      "Processing 7 of 102 class labels & 39 of 54 images\r",
      "Processing 7 of 102 class labels & 40 of 54 images\r",
      "Processing 7 of 102 class labels & 41 of 54 images\r",
      "Processing 7 of 102 class labels & 42 of 54 images\r",
      "Processing 7 of 102 class labels & 43 of 54 images\r",
      "Processing 7 of 102 class labels & 44 of 54 images\r",
      "Processing 7 of 102 class labels & 45 of 54 images\r",
      "Processing 7 of 102 class labels & 46 of 54 images\r",
      "Processing 7 of 102 class labels & 47 of 54 images\r",
      "Processing 7 of 102 class labels & 48 of 54 images\r",
      "Processing 7 of 102 class labels & 49 of 54 images\r",
      "Processing 7 of 102 class labels & 50 of 54 images\r",
      "Processing 7 of 102 class labels & 51 of 54 images\r",
      "Processing 7 of 102 class labels & 52 of 54 images\r",
      "Processing 7 of 102 class labels & 53 of 54 images\r",
      "Processing 7 of 102 class labels & 54 of 54 images\r",
      "Processing 8 of 102 class labels & 1 of 46 images\r",
      "Processing 8 of 102 class labels & 2 of 46 images\r",
      "Processing 8 of 102 class labels & 3 of 46 images\r",
      "Processing 8 of 102 class labels & 4 of 46 images\r",
      "Processing 8 of 102 class labels & 5 of 46 images\r",
      "Processing 8 of 102 class labels & 6 of 46 images\r",
      "Processing 8 of 102 class labels & 7 of 46 images\r",
      "Processing 8 of 102 class labels & 8 of 46 images\r",
      "Processing 8 of 102 class labels & 9 of 46 images\r",
      "Processing 8 of 102 class labels & 10 of 46 images\r",
      "Processing 8 of 102 class labels & 11 of 46 images\r",
      "Processing 8 of 102 class labels & 12 of 46 images\r",
      "Processing 8 of 102 class labels & 13 of 46 images\r",
      "Processing 8 of 102 class labels & 14 of 46 images\r",
      "Processing 8 of 102 class labels & 15 of 46 images"
     ]
    },
    {
     "name": "stderr",
     "output_type": "stream",
     "text": [
      "could not broadcast input array from shape (2500) into shape (7500)could not broadcast input array from shape (2500) into shape (7500)"
     ]
    },
    {
     "name": "stdout",
     "output_type": "stream",
     "text": [
      "Processing 10 of 102 class labels & 122 of 128 images"
     ]
    },
    {
     "name": "stderr",
     "output_type": "stream",
     "text": [
      "could not broadcast input array from shape (2500) into shape (7500)could not broadcast input array from shape (2500) into shape (7500)could not broadcast input array from shape (2500) into shape (7500)could not broadcast input array from shape (2500) into shape (7500)could not broadcast input array from shape (2500) into shape (7500)could not broadcast input array from shape (2500) into shape (7500)could not broadcast input array from shape (2500) into shape (7500)could not broadcast input array from shape (2500) into shape (7500)could not broadcast input array from shape (2500) into shape (7500)could not broadcast input array from shape (2500) into shape (7500)"
     ]
    },
    {
     "name": "stdout",
     "output_type": "stream",
     "text": [
      "\r",
      "Processing 10 of 102 class labels & 123 of 128 images\r",
      "Processing 10 of 102 class labels & 124 of 128 images\r",
      "Processing 10 of 102 class labels & 125 of 128 images\r",
      "Processing 10 of 102 class labels & 126 of 128 images\r",
      "Processing 10 of 102 class labels & 127 of 128 images\r",
      "Processing 10 of 102 class labels & 128 of 128 images\r",
      "Processing 11 of 102 class labels & 1 of 98 images\r",
      "Processing 11 of 102 class labels & 2 of 98 images\r",
      "Processing 11 of 102 class labels & 3 of 98 images\r",
      "Processing 11 of 102 class labels & 4 of 98 images\r",
      "Processing 11 of 102 class labels & 5 of 98 images\r",
      "Processing 11 of 102 class labels & 6 of 98 images\r",
      "Processing 11 of 102 class labels & 7 of 98 images\r",
      "Processing 11 of 102 class labels & 8 of 98 images\r",
      "Processing 11 of 102 class labels & 9 of 98 images\r",
      "Processing 11 of 102 class labels & 10 of 98 images\r",
      "Processing 11 of 102 class labels & 11 of 98 images\r",
      "Processing 11 of 102 class labels & 12 of 98 images\r",
      "Processing 11 of 102 class labels & 13 of 98 images\r",
      "Processing 11 of 102 class labels & 14 of 98 images\r",
      "Processing 11 of 102 class labels & 15 of 98 images\r",
      "Processing 11 of 102 class labels & 16 of 98 images\r",
      "Processing 11 of 102 class labels & 17 of 98 images\r",
      "Processing 11 of 102 class labels & 18 of 98 images\r",
      "Processing 11 of 102 class labels & 19 of 98 images\r",
      "Processing 11 of 102 class labels & 20 of 98 images\r",
      "Processing 11 of 102 class labels & 21 of 98 images\r",
      "Processing 11 of 102 class labels & 22 of 98 images\r",
      "Processing 11 of 102 class labels & 23 of 98 images\r",
      "Processing 11 of 102 class labels & 24 of 98 images\r",
      "Processing 11 of 102 class labels & 25 of 98 images\r",
      "Processing 11 of 102 class labels & 26 of 98 images\r",
      "Processing 11 of 102 class labels & 27 of 98 images\r",
      "Processing 11 of 102 class labels & 28 of 98 images\r",
      "Processing 11 of 102 class labels & 29 of 98 images\r",
      "Processing 11 of 102 class labels & 30 of 98 images"
     ]
    },
    {
     "name": "stderr",
     "output_type": "stream",
     "text": [
      "could not broadcast input array from shape (2500) into shape (7500)could not broadcast input array from shape (2500) into shape (7500)could not broadcast input array from shape (2500) into shape (7500)could not broadcast input array from shape (2500) into shape (7500)"
     ]
    },
    {
     "name": "stdout",
     "output_type": "stream",
     "text": [
      "\r",
      "Processing 11 of 102 class labels & 31 of 98 images\r",
      "Processing 11 of 102 class labels & 32 of 98 images\r",
      "Processing 11 of 102 class labels & 33 of 98 images\r",
      "Processing 11 of 102 class labels & 34 of 98 images\r",
      "Processing 11 of 102 class labels & 35 of 98 images\r",
      "Processing 11 of 102 class labels & 36 of 98 images\r",
      "Processing 11 of 102 class labels & 37 of 98 images\r",
      "Processing 11 of 102 class labels & 38 of 98 images\r",
      "Processing 11 of 102 class labels & 39 of 98 images\r",
      "Processing 11 of 102 class labels & 40 of 98 images\r",
      "Processing 11 of 102 class labels & 41 of 98 images\r",
      "Processing 11 of 102 class labels & 42 of 98 images\r",
      "Processing 11 of 102 class labels & 43 of 98 images\r",
      "Processing 11 of 102 class labels & 44 of 98 images\r",
      "Processing 11 of 102 class labels & 45 of 98 images\r",
      "Processing 11 of 102 class labels & 46 of 98 images\r",
      "Processing 11 of 102 class labels & 47 of 98 images\r",
      "Processing 11 of 102 class labels & 48 of 98 images\r",
      "Processing 11 of 102 class labels & 49 of 98 images\r",
      "Processing 11 of 102 class labels & 50 of 98 images\r",
      "Processing 11 of 102 class labels & 51 of 98 images\r",
      "Processing 11 of 102 class labels & 52 of 98 images\r",
      "Processing 11 of 102 class labels & 53 of 98 images\r",
      "Processing 11 of 102 class labels & 54 of 98 images\r",
      "Processing 11 of 102 class labels & 55 of 98 images\r",
      "Processing 11 of 102 class labels & 56 of 98 images\r",
      "Processing 11 of 102 class labels & 57 of 98 images\r",
      "Processing 11 of 102 class labels & 58 of 98 images\r",
      "Processing 11 of 102 class labels & 59 of 98 images\r",
      "Processing 11 of 102 class labels & 60 of 98 images\r",
      "Processing 11 of 102 class labels & 61 of 98 images\r",
      "Processing 11 of 102 class labels & 62 of 98 images\r",
      "Processing 11 of 102 class labels & 63 of 98 images\r",
      "Processing 11 of 102 class labels & 64 of 98 images\r",
      "Processing 11 of 102 class labels & 65 of 98 images\r",
      "Processing 11 of 102 class labels & 66 of 98 images\r",
      "Processing 11 of 102 class labels & 67 of 98 images\r",
      "Processing 11 of 102 class labels & 68 of 98 images\r",
      "Processing 11 of 102 class labels & 69 of 98 images\r",
      "Processing 11 of 102 class labels & 70 of 98 images\r",
      "Processing 11 of 102 class labels & 71 of 98 images"
     ]
    },
    {
     "name": "stderr",
     "output_type": "stream",
     "text": [
      "could not broadcast input array from shape (2500) into shape (7500)could not broadcast input array from shape (2500) into shape (7500)could not broadcast input array from shape (2500) into shape (7500)"
     ]
    },
    {
     "name": "stdout",
     "output_type": "stream",
     "text": [
      "\r",
      "Processing 11 of 102 class labels & 72 of 98 images\r",
      "Processing 11 of 102 class labels & 73 of 98 images\r",
      "Processing 11 of 102 class labels & 74 of 98 images\r",
      "Processing 11 of 102 class labels & 75 of 98 images\r",
      "Processing 11 of 102 class labels & 76 of 98 images\r",
      "Processing 11 of 102 class labels & 77 of 98 images\r",
      "Processing 11 of 102 class labels & 78 of 98 images\r",
      "Processing 11 of 102 class labels & 79 of 98 images\r",
      "Processing 11 of 102 class labels & 80 of 98 images\r",
      "Processing 11 of 102 class labels & 81 of 98 images\r",
      "Processing 11 of 102 class labels & 82 of 98 images\r",
      "Processing 11 of 102 class labels & 83 of 98 images\r",
      "Processing 11 of 102 class labels & 84 of 98 images\r",
      "Processing 11 of 102 class labels & 85 of 98 images\r",
      "Processing 11 of 102 class labels & 86 of 98 images\r",
      "Processing 11 of 102 class labels & 87 of 98 images\r",
      "Processing 11 of 102 class labels & 88 of 98 images\r",
      "Processing 11 of 102 class labels & 89 of 98 images\r",
      "Processing 11 of 102 class labels & 90 of 98 images\r",
      "Processing 11 of 102 class labels & 91 of 98 images\r",
      "Processing 11 of 102 class labels & 92 of 98 images\r",
      "Processing 11 of 102 class labels & 93 of 98 images\r",
      "Processing 11 of 102 class labels & 94 of 98 images\r",
      "Processing 11 of 102 class labels & 95 of 98 images\r",
      "Processing 11 of 102 class labels & 96 of 98 images\r",
      "Processing 11 of 102 class labels & 97 of 98 images\r",
      "Processing 11 of 102 class labels & 98 of 98 images\r",
      "Processing 12 of 102 class labels & 1 of 43 images\r",
      "Processing 12 of 102 class labels & 2 of 43 images\r",
      "Processing 12 of 102 class labels & 3 of 43 images\r",
      "Processing 12 of 102 class labels & 4 of 43 images\r",
      "Processing 12 of 102 class labels & 5 of 43 images\r",
      "Processing 12 of 102 class labels & 6 of 43 images\r",
      "Processing 12 of 102 class labels & 7 of 43 images\r",
      "Processing 12 of 102 class labels & 8 of 43 images\r",
      "Processing 12 of 102 class labels & 9 of 43 images\r",
      "Processing 12 of 102 class labels & 10 of 43 images\r",
      "Processing 12 of 102 class labels & 11 of 43 images"
     ]
    },
    {
     "name": "stderr",
     "output_type": "stream",
     "text": [
      "could not broadcast input array from shape (2500) into shape (7500)could not broadcast input array from shape (2500) into shape (7500)"
     ]
    },
    {
     "name": "stdout",
     "output_type": "stream",
     "text": [
      "\r",
      "Processing 12 of 102 class labels & 12 of 43 images\r",
      "Processing 12 of 102 class labels & 13 of 43 images\r",
      "Processing 12 of 102 class labels & 14 of 43 images\r",
      "Processing 12 of 102 class labels & 15 of 43 images\r",
      "Processing 12 of 102 class labels & 16 of 43 images\r",
      "Processing 12 of 102 class labels & 17 of 43 images\r",
      "Processing 12 of 102 class labels & 18 of 43 images\r",
      "Processing 12 of 102 class labels & 19 of 43 images\r",
      "Processing 12 of 102 class labels & 20 of 43 images\r",
      "Processing 12 of 102 class labels & 21 of 43 images\r",
      "Processing 12 of 102 class labels & 22 of 43 images\r",
      "Processing 12 of 102 class labels & 23 of 43 images\r",
      "Processing 12 of 102 class labels & 24 of 43 images\r",
      "Processing 12 of 102 class labels & 25 of 43 images\r",
      "Processing 12 of 102 class labels & 26 of 43 images\r",
      "Processing 12 of 102 class labels & 27 of 43 images\r",
      "Processing 12 of 102 class labels & 28 of 43 images\r",
      "Processing 12 of 102 class labels & 29 of 43 images\r",
      "Processing 12 of 102 class labels & 30 of 43 images\r",
      "Processing 12 of 102 class labels & 31 of 43 images\r",
      "Processing 12 of 102 class labels & 32 of 43 images\r",
      "Processing 12 of 102 class labels & 33 of 43 images\r",
      "Processing 12 of 102 class labels & 34 of 43 images\r",
      "Processing 12 of 102 class labels & 35 of 43 images\r",
      "Processing 12 of 102 class labels & 36 of 43 images\r",
      "Processing 12 of 102 class labels & 37 of 43 images\r",
      "Processing 12 of 102 class labels & 38 of 43 images\r",
      "Processing 12 of 102 class labels & 39 of 43 images\r",
      "Processing 12 of 102 class labels & 40 of 43 images\r",
      "Processing 12 of 102 class labels & 41 of 43 images\r",
      "Processing 12 of 102 class labels & 42 of 43 images\r",
      "Processing 12 of 102 class labels & 43 of 43 images\r",
      "Processing 13 of 102 class labels & 1 of 85 images\r",
      "Processing 13 of 102 class labels & 2 of 85 images\r",
      "Processing 13 of 102 class labels & 3 of 85 images\r",
      "Processing 13 of 102 class labels & 4 of 85 images\r",
      "Processing 13 of 102 class labels & 5 of 85 images\r",
      "Processing 13 of 102 class labels & 6 of 85 images\r",
      "Processing 13 of 102 class labels & 7 of 85 images\r",
      "Processing 13 of 102 class labels & 8 of 85 images"
     ]
    },
    {
     "name": "stderr",
     "output_type": "stream",
     "text": [
      "could not broadcast input array from shape (2500) into shape (7500)could not broadcast input array from shape (2500) into shape (7500)"
     ]
    },
    {
     "name": "stdout",
     "output_type": "stream",
     "text": [
      "\r",
      "Processing 13 of 102 class labels & 9 of 85 images\r",
      "Processing 13 of 102 class labels & 10 of 85 images\r",
      "Processing 13 of 102 class labels & 11 of 85 images\r",
      "Processing 13 of 102 class labels & 12 of 85 images\r",
      "Processing 13 of 102 class labels & 13 of 85 images\r",
      "Processing 13 of 102 class labels & 14 of 85 images\r",
      "Processing 13 of 102 class labels & 15 of 85 images\r",
      "Processing 13 of 102 class labels & 16 of 85 images\r",
      "Processing 13 of 102 class labels & 17 of 85 images\r",
      "Processing 13 of 102 class labels & 18 of 85 images\r",
      "Processing 13 of 102 class labels & 19 of 85 images\r",
      "Processing 13 of 102 class labels & 20 of 85 images\r",
      "Processing 13 of 102 class labels & 21 of 85 images\r",
      "Processing 13 of 102 class labels & 22 of 85 images\r",
      "Processing 13 of 102 class labels & 23 of 85 images\r",
      "Processing 13 of 102 class labels & 24 of 85 images\r",
      "Processing 13 of 102 class labels & 25 of 85 images\r",
      "Processing 13 of 102 class labels & 26 of 85 images\r",
      "Processing 13 of 102 class labels & 27 of 85 images\r",
      "Processing 13 of 102 class labels & 28 of 85 images\r",
      "Processing 13 of 102 class labels & 29 of 85 images\r",
      "Processing 13 of 102 class labels & 30 of 85 images\r",
      "Processing 13 of 102 class labels & 31 of 85 images\r",
      "Processing 13 of 102 class labels & 32 of 85 images\r",
      "Processing 13 of 102 class labels & 33 of 85 images\r",
      "Processing 13 of 102 class labels & 34 of 85 images\r",
      "Processing 13 of 102 class labels & 35 of 85 images\r",
      "Processing 13 of 102 class labels & 36 of 85 images\r",
      "Processing 13 of 102 class labels & 37 of 85 images\r",
      "Processing 13 of 102 class labels & 38 of 85 images\r",
      "Processing 13 of 102 class labels & 39 of 85 images\r",
      "Processing 13 of 102 class labels & 40 of 85 images\r",
      "Processing 13 of 102 class labels & 41 of 85 images\r",
      "Processing 13 of 102 class labels & 42 of 85 images\r",
      "Processing 13 of 102 class labels & 43 of 85 images"
     ]
    },
    {
     "name": "stderr",
     "output_type": "stream",
     "text": [
      "could not broadcast input array from shape (2500) into shape (7500)"
     ]
    },
    {
     "name": "stdout",
     "output_type": "stream",
     "text": [
      "\r",
      "Processing 13 of 102 class labels & 44 of 85 images\r",
      "Processing 13 of 102 class labels & 45 of 85 images\r",
      "Processing 13 of 102 class labels & 46 of 85 images\r",
      "Processing 13 of 102 class labels & 47 of 85 images\r",
      "Processing 13 of 102 class labels & 48 of 85 images\r",
      "Processing 13 of 102 class labels & 49 of 85 images\r",
      "Processing 13 of 102 class labels & 50 of 85 images\r",
      "Processing 13 of 102 class labels & 51 of 85 images\r",
      "Processing 13 of 102 class labels & 52 of 85 images\r",
      "Processing 13 of 102 class labels & 53 of 85 images\r",
      "Processing 13 of 102 class labels & 54 of 85 images\r",
      "Processing 13 of 102 class labels & 55 of 85 images\r",
      "Processing 13 of 102 class labels & 56 of 85 images\r",
      "Processing 13 of 102 class labels & 57 of 85 images\r",
      "Processing 13 of 102 class labels & 58 of 85 images\r",
      "Processing 13 of 102 class labels & 59 of 85 images\r",
      "Processing 13 of 102 class labels & 60 of 85 images\r",
      "Processing 13 of 102 class labels & 61 of 85 images\r",
      "Processing 13 of 102 class labels & 62 of 85 images\r",
      "Processing 13 of 102 class labels & 63 of 85 images\r",
      "Processing 13 of 102 class labels & 64 of 85 images\r",
      "Processing 13 of 102 class labels & 65 of 85 images\r",
      "Processing 13 of 102 class labels & 66 of 85 images\r",
      "Processing 13 of 102 class labels & 67 of 85 images\r",
      "Processing 13 of 102 class labels & 68 of 85 images\r",
      "Processing 13 of 102 class labels & 69 of 85 images\r",
      "Processing 13 of 102 class labels & 70 of 85 images\r",
      "Processing 13 of 102 class labels & 71 of 85 images\r",
      "Processing 13 of 102 class labels & 72 of 85 images\r",
      "Processing 13 of 102 class labels & 73 of 85 images\r",
      "Processing 13 of 102 class labels & 74 of 85 images\r",
      "Processing 13 of 102 class labels & 75 of 85 images\r",
      "Processing 13 of 102 class labels & 76 of 85 images\r",
      "Processing 13 of 102 class labels & 77 of 85 images\r",
      "Processing 13 of 102 class labels & 78 of 85 images\r",
      "Processing 13 of 102 class labels & 79 of 85 images\r",
      "Processing 13 of 102 class labels & 80 of 85 images\r",
      "Processing 13 of 102 class labels & 81 of 85 images"
     ]
    },
    {
     "name": "stderr",
     "output_type": "stream",
     "text": [
      "could not broadcast input array from shape (2500) into shape (7500)could not broadcast input array from shape (2500) into shape (7500)"
     ]
    },
    {
     "name": "stdout",
     "output_type": "stream",
     "text": [
      "\r",
      "Processing 13 of 102 class labels & 82 of 85 images\r",
      "Processing 13 of 102 class labels & 83 of 85 images\r",
      "Processing 13 of 102 class labels & 84 of 85 images\r",
      "Processing 13 of 102 class labels & 85 of 85 images\r",
      "Processing 14 of 102 class labels & 1 of 91 images\r",
      "Processing 14 of 102 class labels & 2 of 91 images\r",
      "Processing 14 of 102 class labels & 3 of 91 images\r",
      "Processing 14 of 102 class labels & 4 of 91 images\r",
      "Processing 14 of 102 class labels & 5 of 91 images\r",
      "Processing 14 of 102 class labels & 6 of 91 images\r",
      "Processing 14 of 102 class labels & 7 of 91 images\r",
      "Processing 14 of 102 class labels & 8 of 91 images\r",
      "Processing 14 of 102 class labels & 9 of 91 images\r",
      "Processing 14 of 102 class labels & 10 of 91 images\r",
      "Processing 14 of 102 class labels & 11 of 91 images\r",
      "Processing 14 of 102 class labels & 12 of 91 images\r",
      "Processing 14 of 102 class labels & 13 of 91 images\r",
      "Processing 14 of 102 class labels & 14 of 91 images\r",
      "Processing 14 of 102 class labels & 15 of 91 images\r",
      "Processing 14 of 102 class labels & 16 of 91 images\r",
      "Processing 14 of 102 class labels & 17 of 91 images\r",
      "Processing 14 of 102 class labels & 18 of 91 images\r",
      "Processing 14 of 102 class labels & 19 of 91 images\r",
      "Processing 14 of 102 class labels & 20 of 91 images\r",
      "Processing 14 of 102 class labels & 21 of 91 images\r",
      "Processing 14 of 102 class labels & 22 of 91 images\r",
      "Processing 14 of 102 class labels & 23 of 91 images\r",
      "Processing 14 of 102 class labels & 24 of 91 images\r",
      "Processing 14 of 102 class labels & 25 of 91 images\r",
      "Processing 14 of 102 class labels & 26 of 91 images\r",
      "Processing 14 of 102 class labels & 27 of 91 images\r",
      "Processing 14 of 102 class labels & 28 of 91 images\r",
      "Processing 14 of 102 class labels & 29 of 91 images\r",
      "Processing 14 of 102 class labels & 30 of 91 images\r",
      "Processing 14 of 102 class labels & 31 of 91 images\r",
      "Processing 14 of 102 class labels & 32 of 91 images\r",
      "Processing 14 of 102 class labels & 33 of 91 images\r",
      "Processing 14 of 102 class labels & 34 of 91 images\r",
      "Processing 14 of 102 class labels & 35 of 91 images"
     ]
    },
    {
     "name": "stderr",
     "output_type": "stream",
     "text": [
      "could not broadcast input array from shape (2500) into shape (7500)could not broadcast input array from shape (2500) into shape (7500)could not broadcast input array from shape (2500) into shape (7500)"
     ]
    },
    {
     "name": "stdout",
     "output_type": "stream",
     "text": [
      "\r",
      "Processing 14 of 102 class labels & 36 of 91 images\r",
      "Processing 14 of 102 class labels & 37 of 91 images\r",
      "Processing 14 of 102 class labels & 38 of 91 images\r",
      "Processing 14 of 102 class labels & 39 of 91 images\r",
      "Processing 14 of 102 class labels & 40 of 91 images\r",
      "Processing 14 of 102 class labels & 41 of 91 images\r",
      "Processing 14 of 102 class labels & 42 of 91 images\r",
      "Processing 14 of 102 class labels & 43 of 91 images\r",
      "Processing 14 of 102 class labels & 44 of 91 images\r",
      "Processing 14 of 102 class labels & 45 of 91 images\r",
      "Processing 14 of 102 class labels & 46 of 91 images\r",
      "Processing 14 of 102 class labels & 47 of 91 images\r",
      "Processing 14 of 102 class labels & 48 of 91 images\r",
      "Processing 14 of 102 class labels & 49 of 91 images\r",
      "Processing 14 of 102 class labels & 50 of 91 images\r",
      "Processing 14 of 102 class labels & 51 of 91 images\r",
      "Processing 14 of 102 class labels & 52 of 91 images\r",
      "Processing 14 of 102 class labels & 53 of 91 images\r",
      "Processing 14 of 102 class labels & 54 of 91 images\r",
      "Processing 14 of 102 class labels & 55 of 91 images\r",
      "Processing 14 of 102 class labels & 56 of 91 images\r",
      "Processing 14 of 102 class labels & 57 of 91 images\r",
      "Processing 14 of 102 class labels & 58 of 91 images\r",
      "Processing 14 of 102 class labels & 59 of 91 images\r",
      "Processing 14 of 102 class labels & 60 of 91 images\r",
      "Processing 14 of 102 class labels & 61 of 91 images\r",
      "Processing 14 of 102 class labels & 62 of 91 images\r",
      "Processing 14 of 102 class labels & 63 of 91 images\r",
      "Processing 14 of 102 class labels & 64 of 91 images\r",
      "Processing 14 of 102 class labels & 65 of 91 images\r",
      "Processing 14 of 102 class labels & 66 of 91 images\r",
      "Processing 14 of 102 class labels & 67 of 91 images\r",
      "Processing 14 of 102 class labels & 68 of 91 images\r",
      "Processing 14 of 102 class labels & 69 of 91 images\r",
      "Processing 14 of 102 class labels & 70 of 91 images\r",
      "Processing 14 of 102 class labels & 71 of 91 images\r",
      "Processing 14 of 102 class labels & 72 of 91 images\r",
      "Processing 14 of 102 class labels & 73 of 91 images\r",
      "Processing 14 of 102 class labels & 74 of 91 images"
     ]
    },
    {
     "name": "stderr",
     "output_type": "stream",
     "text": [
      "could not broadcast input array from shape (2500) into shape (7500)could not broadcast input array from shape (2500) into shape (7500)"
     ]
    },
    {
     "name": "stdout",
     "output_type": "stream",
     "text": [
      "\r",
      "Processing 14 of 102 class labels & 75 of 91 images\r",
      "Processing 14 of 102 class labels & 76 of 91 images\r",
      "Processing 14 of 102 class labels & 77 of 91 images\r",
      "Processing 14 of 102 class labels & 78 of 91 images\r",
      "Processing 14 of 102 class labels & 79 of 91 images\r",
      "Processing 14 of 102 class labels & 80 of 91 images\r",
      "Processing 14 of 102 class labels & 81 of 91 images\r",
      "Processing 14 of 102 class labels & 82 of 91 images\r",
      "Processing 14 of 102 class labels & 83 of 91 images\r",
      "Processing 14 of 102 class labels & 84 of 91 images\r",
      "Processing 14 of 102 class labels & 85 of 91 images\r",
      "Processing 14 of 102 class labels & 86 of 91 images\r",
      "Processing 14 of 102 class labels & 87 of 91 images\r",
      "Processing 14 of 102 class labels & 88 of 91 images\r",
      "Processing 14 of 102 class labels & 89 of 91 images\r",
      "Processing 14 of 102 class labels & 90 of 91 images\r",
      "Processing 14 of 102 class labels & 91 of 91 images\r",
      "Processing 15 of 102 class labels & 1 of 50 images\r",
      "Processing 15 of 102 class labels & 2 of 50 images\r",
      "Processing 15 of 102 class labels & 3 of 50 images\r",
      "Processing 15 of 102 class labels & 4 of 50 images\r",
      "Processing 15 of 102 class labels & 5 of 50 images\r",
      "Processing 15 of 102 class labels & 6 of 50 images\r",
      "Processing 15 of 102 class labels & 7 of 50 images\r",
      "Processing 15 of 102 class labels & 8 of 50 images\r",
      "Processing 15 of 102 class labels & 9 of 50 images\r",
      "Processing 15 of 102 class labels & 10 of 50 images\r",
      "Processing 15 of 102 class labels & 11 of 50 images\r",
      "Processing 15 of 102 class labels & 12 of 50 images\r",
      "Processing 15 of 102 class labels & 13 of 50 images\r",
      "Processing 15 of 102 class labels & 14 of 50 images\r",
      "Processing 15 of 102 class labels & 15 of 50 images\r",
      "Processing 15 of 102 class labels & 16 of 50 images\r",
      "Processing 15 of 102 class labels & 17 of 50 images\r",
      "Processing 15 of 102 class labels & 18 of 50 images\r",
      "Processing 15 of 102 class labels & 19 of 50 images\r",
      "Processing 15 of 102 class labels & 20 of 50 images\r",
      "Processing 15 of 102 class labels & 21 of 50 images"
     ]
    },
    {
     "name": "stderr",
     "output_type": "stream",
     "text": [
      "could not broadcast input array from shape (2500) into shape (7500)could not broadcast input array from shape (2500) into shape (7500)could not broadcast input array from shape (2500) into shape (7500)could not broadcast input array from shape (2500) into shape (7500)"
     ]
    },
    {
     "name": "stdout",
     "output_type": "stream",
     "text": [
      "\r",
      "Processing 15 of 102 class labels & 22 of 50 images\r",
      "Processing 15 of 102 class labels & 23 of 50 images\r",
      "Processing 15 of 102 class labels & 24 of 50 images\r",
      "Processing 15 of 102 class labels & 25 of 50 images\r",
      "Processing 15 of 102 class labels & 26 of 50 images\r",
      "Processing 15 of 102 class labels & 27 of 50 images\r",
      "Processing 15 of 102 class labels & 28 of 50 images\r",
      "Processing 15 of 102 class labels & 29 of 50 images\r",
      "Processing 15 of 102 class labels & 30 of 50 images\r",
      "Processing 15 of 102 class labels & 31 of 50 images\r",
      "Processing 15 of 102 class labels & 32 of 50 images\r",
      "Processing 15 of 102 class labels & 33 of 50 images\r",
      "Processing 15 of 102 class labels & 34 of 50 images\r",
      "Processing 15 of 102 class labels & 35 of 50 images\r",
      "Processing 15 of 102 class labels & 36 of 50 images\r",
      "Processing 15 of 102 class labels & 37 of 50 images\r",
      "Processing 15 of 102 class labels & 38 of 50 images\r",
      "Processing 15 of 102 class labels & 39 of 50 images\r",
      "Processing 15 of 102 class labels & 40 of 50 images\r",
      "Processing 15 of 102 class labels & 41 of 50 images\r",
      "Processing 15 of 102 class labels & 42 of 50 images\r",
      "Processing 15 of 102 class labels & 43 of 50 images\r",
      "Processing 15 of 102 class labels & 44 of 50 images\r",
      "Processing 15 of 102 class labels & 45 of 50 images\r",
      "Processing 15 of 102 class labels & 46 of 50 images\r",
      "Processing 15 of 102 class labels & 47 of 50 images\r",
      "Processing 15 of 102 class labels & 48 of 50 images\r",
      "Processing 15 of 102 class labels & 49 of 50 images\r",
      "Processing 15 of 102 class labels & 50 of 50 images\r",
      "Processing 16 of 102 class labels & 1 of 43 images\r",
      "Processing 16 of 102 class labels & 2 of 43 images\r",
      "Processing 16 of 102 class labels & 3 of 43 images\r",
      "Processing 16 of 102 class labels & 4 of 43 images\r",
      "Processing 16 of 102 class labels & 5 of 43 images\r",
      "Processing 16 of 102 class labels & 6 of 43 images\r",
      "Processing 16 of 102 class labels & 7 of 43 images\r",
      "Processing 16 of 102 class labels & 8 of 43 images\r",
      "Processing 16 of 102 class labels & 9 of 43 images\r",
      "Processing 16 of 102 class labels & 10 of 43 images\r",
      "Processing 16 of 102 class labels & 11 of 43 images\r",
      "Processing 16 of 102 class labels & 12 of 43 images\r",
      "Processing 16 of 102 class labels & 13 of 43 images\r",
      "Processing 16 of 102 class labels & 14 of 43 images"
     ]
    },
    {
     "name": "stderr",
     "output_type": "stream",
     "text": [
      "could not broadcast input array from shape (2500) into shape (7500)could not broadcast input array from shape (2500) into shape (7500)could not broadcast input array from shape (2500) into shape (7500)could not broadcast input array from shape (2500) into shape (7500)could not broadcast input array from shape (2500) into shape (7500)could not broadcast input array from shape (2500) into shape (7500)could not broadcast input array from shape (2500) into shape (7500)could not broadcast input array from shape (2500) into shape (7500)could not broadcast input array from shape (2500) into shape (7500)could not broadcast input array from shape (2500) into shape (7500)could not broadcast input array from shape (2500) into shape (7500)could not broadcast input array from shape (2500) into shape (7500)could not broadcast input array from shape (2500) into shape (7500)"
     ]
    },
    {
     "name": "stdout",
     "output_type": "stream",
     "text": [
      "\r",
      "Processing 16 of 102 class labels & 15 of 43 images\r",
      "Processing 16 of 102 class labels & 16 of 43 images\r",
      "Processing 16 of 102 class labels & 17 of 43 images\r",
      "Processing 16 of 102 class labels & 18 of 43 images\r",
      "Processing 16 of 102 class labels & 19 of 43 images\r",
      "Processing 16 of 102 class labels & 20 of 43 images\r",
      "Processing 16 of 102 class labels & 21 of 43 images\r",
      "Processing 16 of 102 class labels & 22 of 43 images\r",
      "Processing 16 of 102 class labels & 23 of 43 images\r",
      "Processing 16 of 102 class labels & 24 of 43 images\r",
      "Processing 16 of 102 class labels & 25 of 43 images\r",
      "Processing 16 of 102 class labels & 26 of 43 images\r",
      "Processing 16 of 102 class labels & 27 of 43 images\r",
      "Processing 16 of 102 class labels & 28 of 43 images\r",
      "Processing 16 of 102 class labels & 29 of 43 images\r",
      "Processing 16 of 102 class labels & 30 of 43 images\r",
      "Processing 16 of 102 class labels & 31 of 43 images\r",
      "Processing 16 of 102 class labels & 32 of 43 images\r",
      "Processing 16 of 102 class labels & 33 of 43 images\r",
      "Processing 16 of 102 class labels & 34 of 43 images\r",
      "Processing 16 of 102 class labels & 35 of 43 images\r",
      "Processing 16 of 102 class labels & 36 of 43 images\r",
      "Processing 16 of 102 class labels & 37 of 43 images\r",
      "Processing 16 of 102 class labels & 38 of 43 images\r",
      "Processing 16 of 102 class labels & 39 of 43 images\r",
      "Processing 16 of 102 class labels & 40 of 43 images\r",
      "Processing 16 of 102 class labels & 41 of 43 images\r",
      "Processing 16 of 102 class labels & 42 of 43 images\r",
      "Processing 16 of 102 class labels & 43 of 43 images\r",
      "Processing 17 of 102 class labels & 1 of 123 images\r",
      "Processing 17 of 102 class labels & 2 of 123 images\r",
      "Processing 17 of 102 class labels & 3 of 123 images\r",
      "Processing 17 of 102 class labels & 4 of 123 images\r",
      "Processing 17 of 102 class labels & 5 of 123 images\r",
      "Processing 17 of 102 class labels & 6 of 123 images\r",
      "Processing 17 of 102 class labels & 7 of 123 images\r",
      "Processing 17 of 102 class labels & 8 of 123 images\r",
      "Processing 17 of 102 class labels & 9 of 123 images\r",
      "Processing 17 of 102 class labels & 10 of 123 images\r",
      "Processing 17 of 102 class labels & 11 of 123 images"
     ]
    },
    {
     "name": "stderr",
     "output_type": "stream",
     "text": [
      "could not broadcast input array from shape (2500) into shape (7500)could not broadcast input array from shape (2500) into shape (7500)could not broadcast input array from shape (2500) into shape (7500)could not broadcast input array from shape (2500) into shape (7500)could not broadcast input array from shape (2500) into shape (7500)could not broadcast input array from shape (2500) into shape (7500)could not broadcast input array from shape (2500) into shape (7500)could not broadcast input array from shape (2500) into shape (7500)could not broadcast input array from shape (2500) into shape (7500)could not broadcast input array from shape (2500) into shape (7500)could not broadcast input array from shape (2500) into shape (7500)could not broadcast input array from shape (2500) into shape (7500)could not broadcast input array from shape (2500) into shape (7500)could not broadcast input array from shape (2500) into shape (7500)could not broadcast input array from shape (2500) into shape (7500)could not broadcast input array from shape (2500) into shape (7500)could not broadcast input array from shape (2500) into shape (7500)could not broadcast input array from shape (2500) into shape (7500)could not broadcast input array from shape (2500) into shape (7500)could not broadcast input array from shape (2500) into shape (7500)could not broadcast input array from shape (2500) into shape (7500)could not broadcast input array from shape (2500) into shape (7500)could not broadcast input array from shape (2500) into shape (7500)could not broadcast input array from shape (2500) into shape (7500)could not broadcast input array from shape (2500) into shape (7500)could not broadcast input array from shape (2500) into shape (7500)could not broadcast input array from shape (2500) into shape (7500)could not broadcast input array from shape (2500) into shape (7500)could not broadcast input array from shape (2500) into shape (7500)could not broadcast input array from shape (2500) into shape (7500)could not broadcast input array from shape (2500) into shape (7500)could not broadcast input array from shape (2500) into shape (7500)could not broadcast input array from shape (2500) into shape (7500)could not broadcast input array from shape (2500) into shape (7500)could not broadcast input array from shape (2500) into shape (7500)could not broadcast input array from shape (2500) into shape (7500)could not broadcast input array from shape (2500) into shape (7500)could not broadcast input array from shape (2500) into shape (7500)could not broadcast input array from shape (2500) into shape (7500)"
     ]
    },
    {
     "name": "stdout",
     "output_type": "stream",
     "text": [
      "\r",
      "Processing 17 of 102 class labels & 12 of 123 images\r",
      "Processing 17 of 102 class labels & 13 of 123 images\r",
      "Processing 17 of 102 class labels & 14 of 123 images\r",
      "Processing 17 of 102 class labels & 15 of 123 images\r",
      "Processing 17 of 102 class labels & 16 of 123 images\r",
      "Processing 17 of 102 class labels & 17 of 123 images\r",
      "Processing 17 of 102 class labels & 18 of 123 images\r",
      "Processing 17 of 102 class labels & 19 of 123 images\r",
      "Processing 17 of 102 class labels & 20 of 123 images\r",
      "Processing 17 of 102 class labels & 21 of 123 images\r",
      "Processing 17 of 102 class labels & 22 of 123 images\r",
      "Processing 17 of 102 class labels & 23 of 123 images\r",
      "Processing 17 of 102 class labels & 24 of 123 images\r",
      "Processing 17 of 102 class labels & 25 of 123 images\r",
      "Processing 17 of 102 class labels & 26 of 123 images\r",
      "Processing 17 of 102 class labels & 27 of 123 images\r",
      "Processing 17 of 102 class labels & 28 of 123 images\r",
      "Processing 17 of 102 class labels & 29 of 123 images\r",
      "Processing 17 of 102 class labels & 30 of 123 images\r",
      "Processing 17 of 102 class labels & 31 of 123 images\r",
      "Processing 17 of 102 class labels & 32 of 123 images\r",
      "Processing 17 of 102 class labels & 33 of 123 images\r",
      "Processing 17 of 102 class labels & 34 of 123 images\r",
      "Processing 17 of 102 class labels & 35 of 123 images\r",
      "Processing 17 of 102 class labels & 36 of 123 images\r",
      "Processing 17 of 102 class labels & 37 of 123 images\r",
      "Processing 17 of 102 class labels & 38 of 123 images\r",
      "Processing 17 of 102 class labels & 39 of 123 images\r",
      "Processing 17 of 102 class labels & 40 of 123 images\r",
      "Processing 17 of 102 class labels & 41 of 123 images\r",
      "Processing 17 of 102 class labels & 42 of 123 images\r",
      "Processing 17 of 102 class labels & 43 of 123 images\r",
      "Processing 17 of 102 class labels & 44 of 123 images\r",
      "Processing 17 of 102 class labels & 45 of 123 images\r",
      "Processing 17 of 102 class labels & 46 of 123 images\r",
      "Processing 17 of 102 class labels & 47 of 123 images\r",
      "Processing 17 of 102 class labels & 48 of 123 images\r",
      "Processing 17 of 102 class labels & 49 of 123 images\r",
      "Processing 17 of 102 class labels & 50 of 123 images\r",
      "Processing 17 of 102 class labels & 51 of 123 images"
     ]
    },
    {
     "name": "stderr",
     "output_type": "stream",
     "text": [
      "could not broadcast input array from shape (2500) into shape (7500)could not broadcast input array from shape (2500) into shape (7500)could not broadcast input array from shape (2500) into shape (7500)could not broadcast input array from shape (2500) into shape (7500)could not broadcast input array from shape (2500) into shape (7500)could not broadcast input array from shape (2500) into shape (7500)could not broadcast input array from shape (2500) into shape (7500)could not broadcast input array from shape (2500) into shape (7500)could not broadcast input array from shape (2500) into shape (7500)could not broadcast input array from shape (2500) into shape (7500)could not broadcast input array from shape (2500) into shape (7500)could not broadcast input array from shape (2500) into shape (7500)could not broadcast input array from shape (2500) into shape (7500)could not broadcast input array from shape (2500) into shape (7500)could not broadcast input array from shape (2500) into shape (7500)could not broadcast input array from shape (2500) into shape (7500)could not broadcast input array from shape (2500) into shape (7500)could not broadcast input array from shape (2500) into shape (7500)could not broadcast input array from shape (2500) into shape (7500)could not broadcast input array from shape (2500) into shape (7500)could not broadcast input array from shape (2500) into shape (7500)could not broadcast input array from shape (2500) into shape (7500)could not broadcast input array from shape (2500) into shape (7500)could not broadcast input array from shape (2500) into shape (7500)could not broadcast input array from shape (2500) into shape (7500)could not broadcast input array from shape (2500) into shape (7500)"
     ]
    },
    {
     "name": "stdout",
     "output_type": "stream",
     "text": [
      "\r",
      "Processing 17 of 102 class labels & 52 of 123 images\r",
      "Processing 17 of 102 class labels & 53 of 123 images\r",
      "Processing 17 of 102 class labels & 54 of 123 images\r",
      "Processing 17 of 102 class labels & 55 of 123 images\r",
      "Processing 17 of 102 class labels & 56 of 123 images\r",
      "Processing 17 of 102 class labels & 57 of 123 images\r",
      "Processing 17 of 102 class labels & 58 of 123 images\r",
      "Processing 17 of 102 class labels & 59 of 123 images\r",
      "Processing 17 of 102 class labels & 60 of 123 images\r",
      "Processing 17 of 102 class labels & 61 of 123 images\r",
      "Processing 17 of 102 class labels & 62 of 123 images\r",
      "Processing 17 of 102 class labels & 63 of 123 images\r",
      "Processing 17 of 102 class labels & 64 of 123 images\r",
      "Processing 17 of 102 class labels & 65 of 123 images\r",
      "Processing 17 of 102 class labels & 66 of 123 images\r",
      "Processing 17 of 102 class labels & 67 of 123 images\r",
      "Processing 17 of 102 class labels & 68 of 123 images\r",
      "Processing 17 of 102 class labels & 69 of 123 images\r",
      "Processing 17 of 102 class labels & 70 of 123 images\r",
      "Processing 17 of 102 class labels & 71 of 123 images\r",
      "Processing 17 of 102 class labels & 72 of 123 images\r",
      "Processing 17 of 102 class labels & 73 of 123 images\r",
      "Processing 17 of 102 class labels & 74 of 123 images\r",
      "Processing 17 of 102 class labels & 75 of 123 images\r",
      "Processing 17 of 102 class labels & 76 of 123 images\r",
      "Processing 17 of 102 class labels & 77 of 123 images"
     ]
    },
    {
     "name": "stderr",
     "output_type": "stream",
     "text": [
      "could not broadcast input array from shape (2500) into shape (7500)could not broadcast input array from shape (2500) into shape (7500)could not broadcast input array from shape (2500) into shape (7500)could not broadcast input array from shape (2500) into shape (7500)could not broadcast input array from shape (2500) into shape (7500)could not broadcast input array from shape (2500) into shape (7500)could not broadcast input array from shape (2500) into shape (7500)could not broadcast input array from shape (2500) into shape (7500)could not broadcast input array from shape (2500) into shape (7500)could not broadcast input array from shape (2500) into shape (7500)could not broadcast input array from shape (2500) into shape (7500)could not broadcast input array from shape (2500) into shape (7500)could not broadcast input array from shape (2500) into shape (7500)could not broadcast input array from shape (2500) into shape (7500)could not broadcast input array from shape (2500) into shape (7500)could not broadcast input array from shape (2500) into shape (7500)could not broadcast input array from shape (2500) into shape (7500)could not broadcast input array from shape (2500) into shape (7500)could not broadcast input array from shape (2500) into shape (7500)could not broadcast input array from shape (2500) into shape (7500)could not broadcast input array from shape (2500) into shape (7500)could not broadcast input array from shape (2500) into shape (7500)could not broadcast input array from shape (2500) into shape (7500)could not broadcast input array from shape (2500) into shape (7500)could not broadcast input array from shape (2500) into shape (7500)could not broadcast input array from shape (2500) into shape (7500)could not broadcast input array from shape (2500) into shape (7500)could not broadcast input array from shape (2500) into shape (7500)could not broadcast input array from shape (2500) into shape (7500)could not broadcast input array from shape (2500) into shape (7500)could not broadcast input array from shape (2500) into shape (7500)could not broadcast input array from shape (2500) into shape (7500)could not broadcast input array from shape (2500) into shape (7500)could not broadcast input array from shape (2500) into shape (7500)could not broadcast input array from shape (2500) into shape (7500)"
     ]
    },
    {
     "name": "stdout",
     "output_type": "stream",
     "text": [
      "\r",
      "Processing 17 of 102 class labels & 78 of 123 images\r",
      "Processing 17 of 102 class labels & 79 of 123 images\r",
      "Processing 17 of 102 class labels & 80 of 123 images\r",
      "Processing 17 of 102 class labels & 81 of 123 images\r",
      "Processing 17 of 102 class labels & 82 of 123 images\r",
      "Processing 17 of 102 class labels & 83 of 123 images\r",
      "Processing 17 of 102 class labels & 84 of 123 images\r",
      "Processing 17 of 102 class labels & 85 of 123 images\r",
      "Processing 17 of 102 class labels & 86 of 123 images\r",
      "Processing 17 of 102 class labels & 87 of 123 images\r",
      "Processing 17 of 102 class labels & 88 of 123 images\r",
      "Processing 17 of 102 class labels & 89 of 123 images\r",
      "Processing 17 of 102 class labels & 90 of 123 images\r",
      "Processing 17 of 102 class labels & 91 of 123 images\r",
      "Processing 17 of 102 class labels & 92 of 123 images\r",
      "Processing 17 of 102 class labels & 93 of 123 images\r",
      "Processing 17 of 102 class labels & 94 of 123 images\r",
      "Processing 17 of 102 class labels & 95 of 123 images\r",
      "Processing 17 of 102 class labels & 96 of 123 images\r",
      "Processing 17 of 102 class labels & 97 of 123 images\r",
      "Processing 17 of 102 class labels & 98 of 123 images\r",
      "Processing 17 of 102 class labels & 99 of 123 images\r",
      "Processing 17 of 102 class labels & 100 of 123 images\r",
      "Processing 17 of 102 class labels & 101 of 123 images\r",
      "Processing 17 of 102 class labels & 102 of 123 images\r",
      "Processing 17 of 102 class labels & 103 of 123 images\r",
      "Processing 17 of 102 class labels & 104 of 123 images\r",
      "Processing 17 of 102 class labels & 105 of 123 images\r",
      "Processing 17 of 102 class labels & 106 of 123 images\r",
      "Processing 17 of 102 class labels & 107 of 123 images\r",
      "Processing 17 of 102 class labels & 108 of 123 images\r",
      "Processing 17 of 102 class labels & 109 of 123 images\r",
      "Processing 17 of 102 class labels & 110 of 123 images\r",
      "Processing 17 of 102 class labels & 111 of 123 images\r",
      "Processing 17 of 102 class labels & 112 of 123 images"
     ]
    },
    {
     "name": "stderr",
     "output_type": "stream",
     "text": [
      "could not broadcast input array from shape (2500) into shape (7500)could not broadcast input array from shape (2500) into shape (7500)could not broadcast input array from shape (2500) into shape (7500)could not broadcast input array from shape (2500) into shape (7500)could not broadcast input array from shape (2500) into shape (7500)could not broadcast input array from shape (2500) into shape (7500)could not broadcast input array from shape (2500) into shape (7500)could not broadcast input array from shape (2500) into shape (7500)could not broadcast input array from shape (2500) into shape (7500)could not broadcast input array from shape (2500) into shape (7500)could not broadcast input array from shape (2500) into shape (7500)could not broadcast input array from shape (2500) into shape (7500)"
     ]
    },
    {
     "name": "stdout",
     "output_type": "stream",
     "text": [
      "\r",
      "Processing 17 of 102 class labels & 113 of 123 images\r",
      "Processing 17 of 102 class labels & 114 of 123 images\r",
      "Processing 17 of 102 class labels & 115 of 123 images\r",
      "Processing 17 of 102 class labels & 116 of 123 images\r",
      "Processing 17 of 102 class labels & 117 of 123 images\r",
      "Processing 17 of 102 class labels & 118 of 123 images\r",
      "Processing 17 of 102 class labels & 119 of 123 images\r",
      "Processing 17 of 102 class labels & 120 of 123 images\r",
      "Processing 17 of 102 class labels & 121 of 123 images\r",
      "Processing 17 of 102 class labels & 122 of 123 images\r",
      "Processing 17 of 102 class labels & 123 of 123 images\r",
      "Processing 18 of 102 class labels & 1 of 47 images\r",
      "Processing 18 of 102 class labels & 2 of 47 images\r",
      "Processing 18 of 102 class labels & 3 of 47 images\r",
      "Processing 18 of 102 class labels & 4 of 47 images\r",
      "Processing 18 of 102 class labels & 5 of 47 images\r",
      "Processing 18 of 102 class labels & 6 of 47 images\r",
      "Processing 18 of 102 class labels & 7 of 47 images\r",
      "Processing 18 of 102 class labels & 8 of 47 images\r",
      "Processing 18 of 102 class labels & 9 of 47 images\r",
      "Processing 18 of 102 class labels & 10 of 47 images\r",
      "Processing 18 of 102 class labels & 11 of 47 images\r",
      "Processing 18 of 102 class labels & 12 of 47 images\r",
      "Processing 18 of 102 class labels & 13 of 47 images\r",
      "Processing 18 of 102 class labels & 14 of 47 images\r",
      "Processing 18 of 102 class labels & 15 of 47 images\r",
      "Processing 18 of 102 class labels & 16 of 47 images\r",
      "Processing 18 of 102 class labels & 17 of 47 images\r",
      "Processing 18 of 102 class labels & 18 of 47 images\r",
      "Processing 18 of 102 class labels & 19 of 47 images\r",
      "Processing 18 of 102 class labels & 20 of 47 images\r",
      "Processing 18 of 102 class labels & 21 of 47 images\r",
      "Processing 18 of 102 class labels & 22 of 47 images\r",
      "Processing 18 of 102 class labels & 23 of 47 images\r",
      "Processing 18 of 102 class labels & 24 of 47 images\r",
      "Processing 18 of 102 class labels & 25 of 47 images\r",
      "Processing 18 of 102 class labels & 26 of 47 images\r",
      "Processing 18 of 102 class labels & 27 of 47 images\r",
      "Processing 18 of 102 class labels & 28 of 47 images\r",
      "Processing 18 of 102 class labels & 29 of 47 images\r",
      "Processing 18 of 102 class labels & 30 of 47 images"
     ]
    },
    {
     "name": "stderr",
     "output_type": "stream",
     "text": [
      "could not broadcast input array from shape (2500) into shape (7500)could not broadcast input array from shape (2500) into shape (7500)"
     ]
    },
    {
     "name": "stdout",
     "output_type": "stream",
     "text": [
      "Processing 20 of 102 class labels & 10 of 62 images"
     ]
    },
    {
     "name": "stderr",
     "output_type": "stream",
     "text": [
      "could not broadcast input array from shape (2500) into shape (7500)"
     ]
    },
    {
     "name": "stdout",
     "output_type": "stream",
     "text": [
      "Processing 21 of 102 class labels & 23 of 107 images"
     ]
    },
    {
     "name": "stderr",
     "output_type": "stream",
     "text": [
      "could not broadcast input array from shape (2500) into shape (7500)could not broadcast input array from shape (2500) into shape (7500)"
     ]
    },
    {
     "name": "stdout",
     "output_type": "stream",
     "text": [
      "Processing 22 of 102 class labels & 37 of 47 imageses"
     ]
    },
    {
     "name": "stderr",
     "output_type": "stream",
     "text": [
      "could not broadcast input array from shape (2500) into shape (7500)could not broadcast input array from shape (2500) into shape (7500)"
     ]
    },
    {
     "name": "stdout",
     "output_type": "stream",
     "text": [
      "\r",
      "Processing 22 of 102 class labels & 38 of 47 images\r",
      "Processing 22 of 102 class labels & 39 of 47 images\r",
      "Processing 22 of 102 class labels & 40 of 47 images\r",
      "Processing 22 of 102 class labels & 41 of 47 images\r",
      "Processing 22 of 102 class labels & 42 of 47 images\r",
      "Processing 22 of 102 class labels & 43 of 47 images\r",
      "Processing 22 of 102 class labels & 44 of 47 images\r",
      "Processing 22 of 102 class labels & 45 of 47 images\r",
      "Processing 22 of 102 class labels & 46 of 47 images\r",
      "Processing 22 of 102 class labels & 47 of 47 images\r",
      "Processing 23 of 102 class labels & 1 of 69 images\r",
      "Processing 23 of 102 class labels & 2 of 69 images\r",
      "Processing 23 of 102 class labels & 3 of 69 images\r",
      "Processing 23 of 102 class labels & 4 of 69 images\r",
      "Processing 23 of 102 class labels & 5 of 69 images\r",
      "Processing 23 of 102 class labels & 6 of 69 images\r",
      "Processing 23 of 102 class labels & 7 of 69 images\r",
      "Processing 23 of 102 class labels & 8 of 69 images\r",
      "Processing 23 of 102 class labels & 9 of 69 images\r",
      "Processing 23 of 102 class labels & 10 of 69 images\r",
      "Processing 23 of 102 class labels & 11 of 69 images\r",
      "Processing 23 of 102 class labels & 12 of 69 images\r",
      "Processing 23 of 102 class labels & 13 of 69 images\r",
      "Processing 23 of 102 class labels & 14 of 69 images\r",
      "Processing 23 of 102 class labels & 15 of 69 images\r",
      "Processing 23 of 102 class labels & 16 of 69 images\r",
      "Processing 23 of 102 class labels & 17 of 69 images\r",
      "Processing 23 of 102 class labels & 18 of 69 images\r",
      "Processing 23 of 102 class labels & 19 of 69 images\r",
      "Processing 23 of 102 class labels & 20 of 69 images\r",
      "Processing 23 of 102 class labels & 21 of 69 images\r",
      "Processing 23 of 102 class labels & 22 of 69 images\r",
      "Processing 23 of 102 class labels & 23 of 69 images\r",
      "Processing 23 of 102 class labels & 24 of 69 images"
     ]
    },
    {
     "name": "stderr",
     "output_type": "stream",
     "text": [
      "could not broadcast input array from shape (2500) into shape (7500)could not broadcast input array from shape (2500) into shape (7500)could not broadcast input array from shape (2500) into shape (7500)"
     ]
    },
    {
     "name": "stdout",
     "output_type": "stream",
     "text": [
      "\r",
      "Processing 23 of 102 class labels & 25 of 69 images\r",
      "Processing 23 of 102 class labels & 26 of 69 images\r",
      "Processing 23 of 102 class labels & 27 of 69 images\r",
      "Processing 23 of 102 class labels & 28 of 69 images\r",
      "Processing 23 of 102 class labels & 29 of 69 images\r",
      "Processing 23 of 102 class labels & 30 of 69 images\r",
      "Processing 23 of 102 class labels & 31 of 69 images\r",
      "Processing 23 of 102 class labels & 32 of 69 images\r",
      "Processing 23 of 102 class labels & 33 of 69 images\r",
      "Processing 23 of 102 class labels & 34 of 69 images\r",
      "Processing 23 of 102 class labels & 35 of 69 images\r",
      "Processing 23 of 102 class labels & 36 of 69 images\r",
      "Processing 23 of 102 class labels & 37 of 69 images\r",
      "Processing 23 of 102 class labels & 38 of 69 images\r",
      "Processing 23 of 102 class labels & 39 of 69 images\r",
      "Processing 23 of 102 class labels & 40 of 69 images\r",
      "Processing 23 of 102 class labels & 41 of 69 images\r",
      "Processing 23 of 102 class labels & 42 of 69 images\r",
      "Processing 23 of 102 class labels & 43 of 69 images\r",
      "Processing 23 of 102 class labels & 44 of 69 images\r",
      "Processing 23 of 102 class labels & 45 of 69 images\r",
      "Processing 23 of 102 class labels & 46 of 69 images\r",
      "Processing 23 of 102 class labels & 47 of 69 images\r",
      "Processing 23 of 102 class labels & 48 of 69 images\r",
      "Processing 23 of 102 class labels & 49 of 69 images\r",
      "Processing 23 of 102 class labels & 50 of 69 images\r",
      "Processing 23 of 102 class labels & 51 of 69 images\r",
      "Processing 23 of 102 class labels & 52 of 69 images\r",
      "Processing 23 of 102 class labels & 53 of 69 images\r",
      "Processing 23 of 102 class labels & 54 of 69 images\r",
      "Processing 23 of 102 class labels & 55 of 69 images\r",
      "Processing 23 of 102 class labels & 56 of 69 images\r",
      "Processing 23 of 102 class labels & 57 of 69 images\r",
      "Processing 23 of 102 class labels & 58 of 69 images\r",
      "Processing 23 of 102 class labels & 59 of 69 images"
     ]
    },
    {
     "name": "stderr",
     "output_type": "stream",
     "text": [
      "could not broadcast input array from shape (2500) into shape (7500)"
     ]
    },
    {
     "name": "stdout",
     "output_type": "stream",
     "text": [
      "\r",
      "Processing 23 of 102 class labels & 60 of 69 images\r",
      "Processing 23 of 102 class labels & 61 of 69 images\r",
      "Processing 23 of 102 class labels & 62 of 69 images\r",
      "Processing 23 of 102 class labels & 63 of 69 images\r",
      "Processing 23 of 102 class labels & 64 of 69 images\r",
      "Processing 23 of 102 class labels & 65 of 69 images\r",
      "Processing 23 of 102 class labels & 66 of 69 images\r",
      "Processing 23 of 102 class labels & 67 of 69 images\r",
      "Processing 23 of 102 class labels & 68 of 69 images\r",
      "Processing 23 of 102 class labels & 69 of 69 images\r",
      "Processing 24 of 102 class labels & 1 of 73 images\r",
      "Processing 24 of 102 class labels & 2 of 73 images\r",
      "Processing 24 of 102 class labels & 3 of 73 images\r",
      "Processing 24 of 102 class labels & 4 of 73 images\r",
      "Processing 24 of 102 class labels & 5 of 73 images\r",
      "Processing 24 of 102 class labels & 6 of 73 images\r",
      "Processing 24 of 102 class labels & 7 of 73 images\r",
      "Processing 24 of 102 class labels & 8 of 73 images\r",
      "Processing 24 of 102 class labels & 9 of 73 images\r",
      "Processing 24 of 102 class labels & 10 of 73 images\r",
      "Processing 24 of 102 class labels & 11 of 73 images\r",
      "Processing 24 of 102 class labels & 12 of 73 images\r",
      "Processing 24 of 102 class labels & 13 of 73 images\r",
      "Processing 24 of 102 class labels & 14 of 73 images\r",
      "Processing 24 of 102 class labels & 15 of 73 images\r",
      "Processing 24 of 102 class labels & 16 of 73 images\r",
      "Processing 24 of 102 class labels & 17 of 73 images\r",
      "Processing 24 of 102 class labels & 18 of 73 images\r",
      "Processing 24 of 102 class labels & 19 of 73 images\r",
      "Processing 24 of 102 class labels & 20 of 73 images\r",
      "Processing 24 of 102 class labels & 21 of 73 images\r",
      "Processing 24 of 102 class labels & 22 of 73 images\r",
      "Processing 24 of 102 class labels & 23 of 73 images\r",
      "Processing 24 of 102 class labels & 24 of 73 images\r",
      "Processing 24 of 102 class labels & 25 of 73 images\r",
      "Processing 24 of 102 class labels & 26 of 73 images\r",
      "Processing 24 of 102 class labels & 27 of 73 images\r",
      "Processing 24 of 102 class labels & 28 of 73 images\r",
      "Processing 24 of 102 class labels & 29 of 73 images"
     ]
    },
    {
     "name": "stderr",
     "output_type": "stream",
     "text": [
      "could not broadcast input array from shape (2500) into shape (7500)could not broadcast input array from shape (2500) into shape (7500)"
     ]
    },
    {
     "name": "stdout",
     "output_type": "stream",
     "text": [
      "\r",
      "Processing 24 of 102 class labels & 30 of 73 images\r",
      "Processing 24 of 102 class labels & 31 of 73 images\r",
      "Processing 24 of 102 class labels & 32 of 73 images\r",
      "Processing 24 of 102 class labels & 33 of 73 images\r",
      "Processing 24 of 102 class labels & 34 of 73 images\r",
      "Processing 24 of 102 class labels & 35 of 73 images\r",
      "Processing 24 of 102 class labels & 36 of 73 images\r",
      "Processing 24 of 102 class labels & 37 of 73 images\r",
      "Processing 24 of 102 class labels & 38 of 73 images\r",
      "Processing 24 of 102 class labels & 39 of 73 images\r",
      "Processing 24 of 102 class labels & 40 of 73 images\r",
      "Processing 24 of 102 class labels & 41 of 73 images\r",
      "Processing 24 of 102 class labels & 42 of 73 images\r",
      "Processing 24 of 102 class labels & 43 of 73 images\r",
      "Processing 24 of 102 class labels & 44 of 73 images\r",
      "Processing 24 of 102 class labels & 45 of 73 images\r",
      "Processing 24 of 102 class labels & 46 of 73 images\r",
      "Processing 24 of 102 class labels & 47 of 73 images\r",
      "Processing 24 of 102 class labels & 48 of 73 images\r",
      "Processing 24 of 102 class labels & 49 of 73 images\r",
      "Processing 24 of 102 class labels & 50 of 73 images\r",
      "Processing 24 of 102 class labels & 51 of 73 images\r",
      "Processing 24 of 102 class labels & 52 of 73 images\r",
      "Processing 24 of 102 class labels & 53 of 73 images\r",
      "Processing 24 of 102 class labels & 54 of 73 images\r",
      "Processing 24 of 102 class labels & 55 of 73 images\r",
      "Processing 24 of 102 class labels & 56 of 73 images\r",
      "Processing 24 of 102 class labels & 57 of 73 images\r",
      "Processing 24 of 102 class labels & 58 of 73 images\r",
      "Processing 24 of 102 class labels & 59 of 73 images\r",
      "Processing 24 of 102 class labels & 60 of 73 images\r",
      "Processing 24 of 102 class labels & 61 of 73 images\r",
      "Processing 24 of 102 class labels & 62 of 73 images\r",
      "Processing 24 of 102 class labels & 63 of 73 images\r",
      "Processing 24 of 102 class labels & 64 of 73 images\r",
      "Processing 24 of 102 class labels & 65 of 73 images\r",
      "Processing 24 of 102 class labels & 66 of 73 images\r",
      "Processing 24 of 102 class labels & 67 of 73 images"
     ]
    },
    {
     "name": "stderr",
     "output_type": "stream",
     "text": [
      "could not broadcast input array from shape (2500) into shape (7500)could not broadcast input array from shape (2500) into shape (7500)"
     ]
    },
    {
     "name": "stdout",
     "output_type": "stream",
     "text": [
      "Processing 27 of 102 class labels & 33 of 51 images"
     ]
    },
    {
     "name": "stderr",
     "output_type": "stream",
     "text": [
      "could not broadcast input array from shape (2500) into shape (7500)"
     ]
    },
    {
     "name": "stdout",
     "output_type": "stream",
     "text": [
      "\r",
      "Processing 27 of 102 class labels & 34 of 51 images\r",
      "Processing 27 of 102 class labels & 35 of 51 images\r",
      "Processing 27 of 102 class labels & 36 of 51 images\r",
      "Processing 27 of 102 class labels & 37 of 51 images\r",
      "Processing 27 of 102 class labels & 38 of 51 images\r",
      "Processing 27 of 102 class labels & 39 of 51 images\r",
      "Processing 27 of 102 class labels & 40 of 51 images\r",
      "Processing 27 of 102 class labels & 41 of 51 images\r",
      "Processing 27 of 102 class labels & 42 of 51 images\r",
      "Processing 27 of 102 class labels & 43 of 51 images\r",
      "Processing 27 of 102 class labels & 44 of 51 images\r",
      "Processing 27 of 102 class labels & 45 of 51 images\r",
      "Processing 27 of 102 class labels & 46 of 51 images\r",
      "Processing 27 of 102 class labels & 47 of 51 images\r",
      "Processing 27 of 102 class labels & 48 of 51 images\r",
      "Processing 27 of 102 class labels & 49 of 51 images\r",
      "Processing 27 of 102 class labels & 50 of 51 images\r",
      "Processing 27 of 102 class labels & 51 of 51 images\r",
      "Processing 28 of 102 class labels & 1 of 57 images\r",
      "Processing 28 of 102 class labels & 2 of 57 images\r",
      "Processing 28 of 102 class labels & 3 of 57 images\r",
      "Processing 28 of 102 class labels & 4 of 57 images\r",
      "Processing 28 of 102 class labels & 5 of 57 images\r",
      "Processing 28 of 102 class labels & 6 of 57 images\r",
      "Processing 28 of 102 class labels & 7 of 57 images\r",
      "Processing 28 of 102 class labels & 8 of 57 images\r",
      "Processing 28 of 102 class labels & 9 of 57 images\r",
      "Processing 28 of 102 class labels & 10 of 57 images\r",
      "Processing 28 of 102 class labels & 11 of 57 images\r",
      "Processing 28 of 102 class labels & 12 of 57 images\r",
      "Processing 28 of 102 class labels & 13 of 57 images\r",
      "Processing 28 of 102 class labels & 14 of 57 images\r",
      "Processing 28 of 102 class labels & 15 of 57 images\r",
      "Processing 28 of 102 class labels & 16 of 57 images\r",
      "Processing 28 of 102 class labels & 17 of 57 images\r",
      "Processing 28 of 102 class labels & 18 of 57 images\r",
      "Processing 28 of 102 class labels & 19 of 57 images\r",
      "Processing 28 of 102 class labels & 20 of 57 images\r",
      "Processing 28 of 102 class labels & 21 of 57 images\r",
      "Processing 28 of 102 class labels & 22 of 57 images\r",
      "Processing 28 of 102 class labels & 23 of 57 images"
     ]
    },
    {
     "name": "stderr",
     "output_type": "stream",
     "text": [
      "could not broadcast input array from shape (2500) into shape (7500)could not broadcast input array from shape (2500) into shape (7500)"
     ]
    },
    {
     "name": "stdout",
     "output_type": "stream",
     "text": [
      "Processing 30 of 102 class labels & 9 of 52 imagess"
     ]
    },
    {
     "name": "stderr",
     "output_type": "stream",
     "text": [
      "could not broadcast input array from shape (2500) into shape (7500)"
     ]
    },
    {
     "name": "stdout",
     "output_type": "stream",
     "text": [
      "\r",
      "Processing 30 of 102 class labels & 10 of 52 images\r",
      "Processing 30 of 102 class labels & 11 of 52 images\r",
      "Processing 30 of 102 class labels & 12 of 52 images\r",
      "Processing 30 of 102 class labels & 13 of 52 images\r",
      "Processing 30 of 102 class labels & 14 of 52 images\r",
      "Processing 30 of 102 class labels & 15 of 52 images\r",
      "Processing 30 of 102 class labels & 16 of 52 images\r",
      "Processing 30 of 102 class labels & 17 of 52 images\r",
      "Processing 30 of 102 class labels & 18 of 52 images\r",
      "Processing 30 of 102 class labels & 19 of 52 images\r",
      "Processing 30 of 102 class labels & 20 of 52 images\r",
      "Processing 30 of 102 class labels & 21 of 52 images\r",
      "Processing 30 of 102 class labels & 22 of 52 images\r",
      "Processing 30 of 102 class labels & 23 of 52 images\r",
      "Processing 30 of 102 class labels & 24 of 52 images\r",
      "Processing 30 of 102 class labels & 25 of 52 images\r",
      "Processing 30 of 102 class labels & 26 of 52 images\r",
      "Processing 30 of 102 class labels & 27 of 52 images\r",
      "Processing 30 of 102 class labels & 28 of 52 images\r",
      "Processing 30 of 102 class labels & 29 of 52 images\r",
      "Processing 30 of 102 class labels & 30 of 52 images\r",
      "Processing 30 of 102 class labels & 31 of 52 images\r",
      "Processing 30 of 102 class labels & 32 of 52 images\r",
      "Processing 30 of 102 class labels & 33 of 52 images\r",
      "Processing 30 of 102 class labels & 34 of 52 images\r",
      "Processing 30 of 102 class labels & 35 of 52 images\r",
      "Processing 30 of 102 class labels & 36 of 52 images\r",
      "Processing 30 of 102 class labels & 37 of 52 images\r",
      "Processing 30 of 102 class labels & 38 of 52 images\r",
      "Processing 30 of 102 class labels & 39 of 52 images\r",
      "Processing 30 of 102 class labels & 40 of 52 images\r",
      "Processing 30 of 102 class labels & 41 of 52 images\r",
      "Processing 30 of 102 class labels & 42 of 52 images\r",
      "Processing 30 of 102 class labels & 43 of 52 images\r",
      "Processing 30 of 102 class labels & 44 of 52 images\r",
      "Processing 30 of 102 class labels & 45 of 52 images\r",
      "Processing 30 of 102 class labels & 46 of 52 images\r",
      "Processing 30 of 102 class labels & 47 of 52 images\r",
      "Processing 30 of 102 class labels & 48 of 52 images\r",
      "Processing 30 of 102 class labels & 49 of 52 images\r",
      "Processing 30 of 102 class labels & 50 of 52 images\r",
      "Processing 30 of 102 class labels & 51 of 52 images\r",
      "Processing 30 of 102 class labels & 52 of 52 images\r",
      "Processing 31 of 102 class labels & 1 of 65 images\r",
      "Processing 31 of 102 class labels & 2 of 65 images\r",
      "Processing 31 of 102 class labels & 3 of 65 images\r",
      "Processing 31 of 102 class labels & 4 of 65 images\r",
      "Processing 31 of 102 class labels & 5 of 65 images"
     ]
    },
    {
     "name": "stderr",
     "output_type": "stream",
     "text": [
      "could not broadcast input array from shape (2500) into shape (7500)"
     ]
    },
    {
     "name": "stdout",
     "output_type": "stream",
     "text": [
      "\r",
      "Processing 31 of 102 class labels & 6 of 65 images\r",
      "Processing 31 of 102 class labels & 7 of 65 images\r",
      "Processing 31 of 102 class labels & 8 of 65 images\r",
      "Processing 31 of 102 class labels & 9 of 65 images\r",
      "Processing 31 of 102 class labels & 10 of 65 images\r",
      "Processing 31 of 102 class labels & 11 of 65 images\r",
      "Processing 31 of 102 class labels & 12 of 65 images\r",
      "Processing 31 of 102 class labels & 13 of 65 images\r",
      "Processing 31 of 102 class labels & 14 of 65 images\r",
      "Processing 31 of 102 class labels & 15 of 65 images\r",
      "Processing 31 of 102 class labels & 16 of 65 images\r",
      "Processing 31 of 102 class labels & 17 of 65 images\r",
      "Processing 31 of 102 class labels & 18 of 65 images\r",
      "Processing 31 of 102 class labels & 19 of 65 images\r",
      "Processing 31 of 102 class labels & 20 of 65 images\r",
      "Processing 31 of 102 class labels & 21 of 65 images\r",
      "Processing 31 of 102 class labels & 22 of 65 images\r",
      "Processing 31 of 102 class labels & 23 of 65 images\r",
      "Processing 31 of 102 class labels & 24 of 65 images\r",
      "Processing 31 of 102 class labels & 25 of 65 images\r",
      "Processing 31 of 102 class labels & 26 of 65 images\r",
      "Processing 31 of 102 class labels & 27 of 65 images\r",
      "Processing 31 of 102 class labels & 28 of 65 images\r",
      "Processing 31 of 102 class labels & 29 of 65 images\r",
      "Processing 31 of 102 class labels & 30 of 65 images\r",
      "Processing 31 of 102 class labels & 31 of 65 images\r",
      "Processing 31 of 102 class labels & 32 of 65 images\r",
      "Processing 31 of 102 class labels & 33 of 65 images\r",
      "Processing 31 of 102 class labels & 34 of 65 images\r",
      "Processing 31 of 102 class labels & 35 of 65 images\r",
      "Processing 31 of 102 class labels & 36 of 65 images\r",
      "Processing 31 of 102 class labels & 37 of 65 images\r",
      "Processing 31 of 102 class labels & 38 of 65 images\r",
      "Processing 31 of 102 class labels & 39 of 65 images\r",
      "Processing 31 of 102 class labels & 40 of 65 images\r",
      "Processing 31 of 102 class labels & 41 of 65 images\r",
      "Processing 31 of 102 class labels & 42 of 65 images\r",
      "Processing 31 of 102 class labels & 43 of 65 images\r",
      "Processing 31 of 102 class labels & 44 of 65 images\r",
      "Processing 31 of 102 class labels & 45 of 65 images\r",
      "Processing 31 of 102 class labels & 46 of 65 images\r",
      "Processing 31 of 102 class labels & 47 of 65 images\r",
      "Processing 31 of 102 class labels & 48 of 65 images\r",
      "Processing 31 of 102 class labels & 49 of 65 images\r",
      "Processing 31 of 102 class labels & 50 of 65 images\r",
      "Processing 31 of 102 class labels & 51 of 65 images\r",
      "Processing 31 of 102 class labels & 52 of 65 images"
     ]
    },
    {
     "name": "stderr",
     "output_type": "stream",
     "text": [
      "could not broadcast input array from shape (2500) into shape (7500)could not broadcast input array from shape (2500) into shape (7500)could not broadcast input array from shape (2500) into shape (7500)"
     ]
    },
    {
     "name": "stdout",
     "output_type": "stream",
     "text": [
      "Processing 32 of 102 class labels & 66 of 68 images"
     ]
    },
    {
     "name": "stderr",
     "output_type": "stream",
     "text": [
      "could not broadcast input array from shape (2500) into shape (7500)could not broadcast input array from shape (2500) into shape (7500)could not broadcast input array from shape (2500) into shape (7500)"
     ]
    },
    {
     "name": "stdout",
     "output_type": "stream",
     "text": [
      "Processing 34 of 102 class labels & 49 of 64 images"
     ]
    },
    {
     "name": "stderr",
     "output_type": "stream",
     "text": [
      "could not broadcast input array from shape (2500) into shape (7500)could not broadcast input array from shape (2500) into shape (7500)"
     ]
    },
    {
     "name": "stdout",
     "output_type": "stream",
     "text": [
      "\r",
      "Processing 34 of 102 class labels & 50 of 64 images\r",
      "Processing 34 of 102 class labels & 51 of 64 images\r",
      "Processing 34 of 102 class labels & 52 of 64 images\r",
      "Processing 34 of 102 class labels & 53 of 64 images\r",
      "Processing 34 of 102 class labels & 54 of 64 images\r",
      "Processing 34 of 102 class labels & 55 of 64 images\r",
      "Processing 34 of 102 class labels & 56 of 64 images\r",
      "Processing 34 of 102 class labels & 57 of 64 images\r",
      "Processing 34 of 102 class labels & 58 of 64 images\r",
      "Processing 34 of 102 class labels & 59 of 64 images\r",
      "Processing 34 of 102 class labels & 60 of 64 images\r",
      "Processing 34 of 102 class labels & 61 of 64 images\r",
      "Processing 34 of 102 class labels & 62 of 64 images\r",
      "Processing 34 of 102 class labels & 63 of 64 images\r",
      "Processing 34 of 102 class labels & 64 of 64 images\r",
      "Processing 35 of 102 class labels & 1 of 53 images\r",
      "Processing 35 of 102 class labels & 2 of 53 images\r",
      "Processing 35 of 102 class labels & 3 of 53 images\r",
      "Processing 35 of 102 class labels & 4 of 53 images\r",
      "Processing 35 of 102 class labels & 5 of 53 images\r",
      "Processing 35 of 102 class labels & 6 of 53 images\r",
      "Processing 35 of 102 class labels & 7 of 53 images\r",
      "Processing 35 of 102 class labels & 8 of 53 images\r",
      "Processing 35 of 102 class labels & 9 of 53 images\r",
      "Processing 35 of 102 class labels & 10 of 53 images\r",
      "Processing 35 of 102 class labels & 11 of 53 images\r",
      "Processing 35 of 102 class labels & 12 of 53 images\r",
      "Processing 35 of 102 class labels & 13 of 53 images\r",
      "Processing 35 of 102 class labels & 14 of 53 images"
     ]
    },
    {
     "name": "stderr",
     "output_type": "stream",
     "text": [
      "could not broadcast input array from shape (2500) into shape (7500)"
     ]
    },
    {
     "name": "stdout",
     "output_type": "stream",
     "text": [
      "\r",
      "Processing 35 of 102 class labels & 15 of 53 images\r",
      "Processing 35 of 102 class labels & 16 of 53 images\r",
      "Processing 35 of 102 class labels & 17 of 53 images\r",
      "Processing 35 of 102 class labels & 18 of 53 images\r",
      "Processing 35 of 102 class labels & 19 of 53 images\r",
      "Processing 35 of 102 class labels & 20 of 53 images\r",
      "Processing 35 of 102 class labels & 21 of 53 images\r",
      "Processing 35 of 102 class labels & 22 of 53 images\r",
      "Processing 35 of 102 class labels & 23 of 53 images\r",
      "Processing 35 of 102 class labels & 24 of 53 images\r",
      "Processing 35 of 102 class labels & 25 of 53 images\r",
      "Processing 35 of 102 class labels & 26 of 53 images\r",
      "Processing 35 of 102 class labels & 27 of 53 images\r",
      "Processing 35 of 102 class labels & 28 of 53 images\r",
      "Processing 35 of 102 class labels & 29 of 53 images\r",
      "Processing 35 of 102 class labels & 30 of 53 images\r",
      "Processing 35 of 102 class labels & 31 of 53 images\r",
      "Processing 35 of 102 class labels & 32 of 53 images\r",
      "Processing 35 of 102 class labels & 33 of 53 images\r",
      "Processing 35 of 102 class labels & 34 of 53 images\r",
      "Processing 35 of 102 class labels & 35 of 53 images\r",
      "Processing 35 of 102 class labels & 36 of 53 images\r",
      "Processing 35 of 102 class labels & 37 of 53 images\r",
      "Processing 35 of 102 class labels & 38 of 53 images\r",
      "Processing 35 of 102 class labels & 39 of 53 images\r",
      "Processing 35 of 102 class labels & 40 of 53 images\r",
      "Processing 35 of 102 class labels & 41 of 53 images\r",
      "Processing 35 of 102 class labels & 42 of 53 images\r",
      "Processing 35 of 102 class labels & 43 of 53 images"
     ]
    },
    {
     "name": "stderr",
     "output_type": "stream",
     "text": [
      "could not broadcast input array from shape (2500) into shape (7500)could not broadcast input array from shape (2500) into shape (7500)"
     ]
    },
    {
     "name": "stdout",
     "output_type": "stream",
     "text": [
      "\r",
      "Processing 35 of 102 class labels & 44 of 53 images\r",
      "Processing 35 of 102 class labels & 45 of 53 images\r",
      "Processing 35 of 102 class labels & 46 of 53 images\r",
      "Processing 35 of 102 class labels & 47 of 53 images\r",
      "Processing 35 of 102 class labels & 48 of 53 images\r",
      "Processing 35 of 102 class labels & 49 of 53 images\r",
      "Processing 35 of 102 class labels & 50 of 53 images\r",
      "Processing 35 of 102 class labels & 51 of 53 images\r",
      "Processing 35 of 102 class labels & 52 of 53 images\r",
      "Processing 35 of 102 class labels & 53 of 53 images\r",
      "Processing 36 of 102 class labels & 1 of 64 images\r",
      "Processing 36 of 102 class labels & 2 of 64 images\r",
      "Processing 36 of 102 class labels & 3 of 64 images\r",
      "Processing 36 of 102 class labels & 4 of 64 images\r",
      "Processing 36 of 102 class labels & 5 of 64 images\r",
      "Processing 36 of 102 class labels & 6 of 64 images\r",
      "Processing 36 of 102 class labels & 7 of 64 images\r",
      "Processing 36 of 102 class labels & 8 of 64 images\r",
      "Processing 36 of 102 class labels & 9 of 64 images\r",
      "Processing 36 of 102 class labels & 10 of 64 images\r",
      "Processing 36 of 102 class labels & 11 of 64 images\r",
      "Processing 36 of 102 class labels & 12 of 64 images\r",
      "Processing 36 of 102 class labels & 13 of 64 images\r",
      "Processing 36 of 102 class labels & 14 of 64 images\r",
      "Processing 36 of 102 class labels & 15 of 64 images\r",
      "Processing 36 of 102 class labels & 16 of 64 images\r",
      "Processing 36 of 102 class labels & 17 of 64 images\r",
      "Processing 36 of 102 class labels & 18 of 64 images\r",
      "Processing 36 of 102 class labels & 19 of 64 images\r",
      "Processing 36 of 102 class labels & 20 of 64 images\r",
      "Processing 36 of 102 class labels & 21 of 64 images\r",
      "Processing 36 of 102 class labels & 22 of 64 images\r",
      "Processing 36 of 102 class labels & 23 of 64 images\r",
      "Processing 36 of 102 class labels & 24 of 64 images\r",
      "Processing 36 of 102 class labels & 25 of 64 images\r",
      "Processing 36 of 102 class labels & 26 of 64 images\r",
      "Processing 36 of 102 class labels & 27 of 64 images\r",
      "Processing 36 of 102 class labels & 28 of 64 images\r",
      "Processing 36 of 102 class labels & 29 of 64 images\r",
      "Processing 36 of 102 class labels & 30 of 64 images"
     ]
    },
    {
     "name": "stderr",
     "output_type": "stream",
     "text": [
      "could not broadcast input array from shape (2500) into shape (7500)could not broadcast input array from shape (2500) into shape (7500)"
     ]
    },
    {
     "name": "stdout",
     "output_type": "stream",
     "text": [
      "Processing 37 of 102 class labels & 67 of 85 images"
     ]
    },
    {
     "name": "stderr",
     "output_type": "stream",
     "text": [
      "could not broadcast input array from shape (2500) into shape (7500)could not broadcast input array from shape (2500) into shape (7500)"
     ]
    },
    {
     "name": "stdout",
     "output_type": "stream",
     "text": [
      "Processing 39 of 102 class labels & 417 of 435 images"
     ]
    },
    {
     "name": "stderr",
     "output_type": "stream",
     "text": [
      "could not broadcast input array from shape (2500) into shape (7500)"
     ]
    },
    {
     "name": "stdout",
     "output_type": "stream",
     "text": [
      "\r",
      "Processing 39 of 102 class labels & 418 of 435 images\r",
      "Processing 39 of 102 class labels & 419 of 435 images\r",
      "Processing 39 of 102 class labels & 420 of 435 images\r",
      "Processing 39 of 102 class labels & 421 of 435 images\r",
      "Processing 39 of 102 class labels & 422 of 435 images\r",
      "Processing 39 of 102 class labels & 423 of 435 images\r",
      "Processing 39 of 102 class labels & 424 of 435 images\r",
      "Processing 39 of 102 class labels & 425 of 435 images\r",
      "Processing 39 of 102 class labels & 426 of 435 images\r",
      "Processing 39 of 102 class labels & 427 of 435 images\r",
      "Processing 39 of 102 class labels & 428 of 435 images\r",
      "Processing 39 of 102 class labels & 429 of 435 images\r",
      "Processing 39 of 102 class labels & 430 of 435 images\r",
      "Processing 39 of 102 class labels & 431 of 435 images\r",
      "Processing 39 of 102 class labels & 432 of 435 images\r",
      "Processing 39 of 102 class labels & 433 of 435 images\r",
      "Processing 39 of 102 class labels & 434 of 435 images\r",
      "Processing 39 of 102 class labels & 435 of 435 images\r",
      "Processing 40 of 102 class labels & 1 of 67 images\r",
      "Processing 40 of 102 class labels & 2 of 67 images\r",
      "Processing 40 of 102 class labels & 3 of 67 images\r",
      "Processing 40 of 102 class labels & 4 of 67 images\r",
      "Processing 40 of 102 class labels & 5 of 67 images\r",
      "Processing 40 of 102 class labels & 6 of 67 images\r",
      "Processing 40 of 102 class labels & 7 of 67 images\r",
      "Processing 40 of 102 class labels & 8 of 67 images\r",
      "Processing 40 of 102 class labels & 9 of 67 images\r",
      "Processing 40 of 102 class labels & 10 of 67 images\r",
      "Processing 40 of 102 class labels & 11 of 67 images\r",
      "Processing 40 of 102 class labels & 12 of 67 images\r",
      "Processing 40 of 102 class labels & 13 of 67 images\r",
      "Processing 40 of 102 class labels & 14 of 67 images\r",
      "Processing 40 of 102 class labels & 15 of 67 images\r",
      "Processing 40 of 102 class labels & 16 of 67 images\r",
      "Processing 40 of 102 class labels & 17 of 67 images\r",
      "Processing 40 of 102 class labels & 18 of 67 images\r",
      "Processing 40 of 102 class labels & 19 of 67 images"
     ]
    },
    {
     "name": "stderr",
     "output_type": "stream",
     "text": [
      "could not broadcast input array from shape (2500) into shape (7500)"
     ]
    },
    {
     "name": "stdout",
     "output_type": "stream",
     "text": [
      "Processing 42 of 102 class labels & 35 of 45 images"
     ]
    },
    {
     "name": "stderr",
     "output_type": "stream",
     "text": [
      "could not broadcast input array from shape (2500) into shape (7500)could not broadcast input array from shape (2500) into shape (7500)could not broadcast input array from shape (2500) into shape (7500)"
     ]
    },
    {
     "name": "stdout",
     "output_type": "stream",
     "text": [
      "Processing 44 of 102 class labels & 27 of 34 images"
     ]
    },
    {
     "name": "stderr",
     "output_type": "stream",
     "text": [
      "could not broadcast input array from shape (2500) into shape (7500)could not broadcast input array from shape (2500) into shape (7500)"
     ]
    },
    {
     "name": "stdout",
     "output_type": "stream",
     "text": [
      "Processing 50 of 102 class labels & 46 of 88 imageses"
     ]
    },
    {
     "name": "stderr",
     "output_type": "stream",
     "text": [
      "could not broadcast input array from shape (2500) into shape (7500)"
     ]
    },
    {
     "name": "stdout",
     "output_type": "stream",
     "text": [
      "\r",
      "Processing 50 of 102 class labels & 47 of 88 images\r",
      "Processing 50 of 102 class labels & 48 of 88 images\r",
      "Processing 50 of 102 class labels & 49 of 88 images\r",
      "Processing 50 of 102 class labels & 50 of 88 images\r",
      "Processing 50 of 102 class labels & 51 of 88 images\r",
      "Processing 50 of 102 class labels & 52 of 88 images\r",
      "Processing 50 of 102 class labels & 53 of 88 images\r",
      "Processing 50 of 102 class labels & 54 of 88 images\r",
      "Processing 50 of 102 class labels & 55 of 88 images\r",
      "Processing 50 of 102 class labels & 56 of 88 images\r",
      "Processing 50 of 102 class labels & 57 of 88 images\r",
      "Processing 50 of 102 class labels & 58 of 88 images\r",
      "Processing 50 of 102 class labels & 59 of 88 images\r",
      "Processing 50 of 102 class labels & 60 of 88 images\r",
      "Processing 50 of 102 class labels & 61 of 88 images\r",
      "Processing 50 of 102 class labels & 62 of 88 images\r",
      "Processing 50 of 102 class labels & 63 of 88 images\r",
      "Processing 50 of 102 class labels & 64 of 88 images\r",
      "Processing 50 of 102 class labels & 65 of 88 images\r",
      "Processing 50 of 102 class labels & 66 of 88 images\r",
      "Processing 50 of 102 class labels & 67 of 88 images\r",
      "Processing 50 of 102 class labels & 68 of 88 images\r",
      "Processing 50 of 102 class labels & 69 of 88 images\r",
      "Processing 50 of 102 class labels & 70 of 88 images\r",
      "Processing 50 of 102 class labels & 71 of 88 images\r",
      "Processing 50 of 102 class labels & 72 of 88 images\r",
      "Processing 50 of 102 class labels & 73 of 88 images\r",
      "Processing 50 of 102 class labels & 74 of 88 images\r",
      "Processing 50 of 102 class labels & 75 of 88 images\r",
      "Processing 50 of 102 class labels & 76 of 88 images\r",
      "Processing 50 of 102 class labels & 77 of 88 images\r",
      "Processing 50 of 102 class labels & 78 of 88 images"
     ]
    },
    {
     "name": "stderr",
     "output_type": "stream",
     "text": [
      "could not broadcast input array from shape (2500) into shape (7500)"
     ]
    },
    {
     "name": "stdout",
     "output_type": "stream",
     "text": [
      "Processing 51 of 102 class labels & 60 of 80 images"
     ]
    },
    {
     "name": "stderr",
     "output_type": "stream",
     "text": [
      "could not broadcast input array from shape (2500) into shape (7500)"
     ]
    },
    {
     "name": "stdout",
     "output_type": "stream",
     "text": [
      "\r",
      "Processing 51 of 102 class labels & 61 of 80 images\r",
      "Processing 51 of 102 class labels & 62 of 80 images\r",
      "Processing 51 of 102 class labels & 63 of 80 images\r",
      "Processing 51 of 102 class labels & 64 of 80 images\r",
      "Processing 51 of 102 class labels & 65 of 80 images\r",
      "Processing 51 of 102 class labels & 66 of 80 images\r",
      "Processing 51 of 102 class labels & 67 of 80 images\r",
      "Processing 51 of 102 class labels & 68 of 80 images\r",
      "Processing 51 of 102 class labels & 69 of 80 images\r",
      "Processing 51 of 102 class labels & 70 of 80 images\r",
      "Processing 51 of 102 class labels & 71 of 80 images\r",
      "Processing 51 of 102 class labels & 72 of 80 images\r",
      "Processing 51 of 102 class labels & 73 of 80 images\r",
      "Processing 51 of 102 class labels & 74 of 80 images\r",
      "Processing 51 of 102 class labels & 75 of 80 images\r",
      "Processing 51 of 102 class labels & 76 of 80 images\r",
      "Processing 51 of 102 class labels & 77 of 80 images\r",
      "Processing 51 of 102 class labels & 78 of 80 images\r",
      "Processing 51 of 102 class labels & 79 of 80 images\r",
      "Processing 51 of 102 class labels & 80 of 80 images\r",
      "Processing 52 of 102 class labels & 1 of 31 images\r",
      "Processing 52 of 102 class labels & 2 of 31 images\r",
      "Processing 52 of 102 class labels & 3 of 31 images\r",
      "Processing 52 of 102 class labels & 4 of 31 images\r",
      "Processing 52 of 102 class labels & 5 of 31 images\r",
      "Processing 52 of 102 class labels & 6 of 31 images\r",
      "Processing 52 of 102 class labels & 7 of 31 images\r",
      "Processing 52 of 102 class labels & 8 of 31 images\r",
      "Processing 52 of 102 class labels & 9 of 31 images\r",
      "Processing 52 of 102 class labels & 10 of 31 images\r",
      "Processing 52 of 102 class labels & 11 of 31 images\r",
      "Processing 52 of 102 class labels & 12 of 31 images\r",
      "Processing 52 of 102 class labels & 13 of 31 images\r",
      "Processing 52 of 102 class labels & 14 of 31 images\r",
      "Processing 52 of 102 class labels & 15 of 31 images\r",
      "Processing 52 of 102 class labels & 16 of 31 images\r",
      "Processing 52 of 102 class labels & 17 of 31 images"
     ]
    },
    {
     "name": "stderr",
     "output_type": "stream",
     "text": [
      "could not broadcast input array from shape (2500) into shape (7500)"
     ]
    },
    {
     "name": "stdout",
     "output_type": "stream",
     "text": [
      "\r",
      "Processing 52 of 102 class labels & 18 of 31 images\r",
      "Processing 52 of 102 class labels & 19 of 31 images\r",
      "Processing 52 of 102 class labels & 20 of 31 images\r",
      "Processing 52 of 102 class labels & 21 of 31 images\r",
      "Processing 52 of 102 class labels & 22 of 31 images\r",
      "Processing 52 of 102 class labels & 23 of 31 images\r",
      "Processing 52 of 102 class labels & 24 of 31 images\r",
      "Processing 52 of 102 class labels & 25 of 31 images\r",
      "Processing 52 of 102 class labels & 26 of 31 images\r",
      "Processing 52 of 102 class labels & 27 of 31 images\r",
      "Processing 52 of 102 class labels & 28 of 31 images\r",
      "Processing 52 of 102 class labels & 29 of 31 images\r",
      "Processing 52 of 102 class labels & 30 of 31 images\r",
      "Processing 52 of 102 class labels & 31 of 31 images\r",
      "Processing 53 of 102 class labels & 1 of 64 images\r",
      "Processing 53 of 102 class labels & 2 of 64 images\r",
      "Processing 53 of 102 class labels & 3 of 64 images\r",
      "Processing 53 of 102 class labels & 4 of 64 images\r",
      "Processing 53 of 102 class labels & 5 of 64 images\r",
      "Processing 53 of 102 class labels & 6 of 64 images\r",
      "Processing 53 of 102 class labels & 7 of 64 images\r",
      "Processing 53 of 102 class labels & 8 of 64 images\r",
      "Processing 53 of 102 class labels & 9 of 64 images\r",
      "Processing 53 of 102 class labels & 10 of 64 images\r",
      "Processing 53 of 102 class labels & 11 of 64 images\r",
      "Processing 53 of 102 class labels & 12 of 64 images\r",
      "Processing 53 of 102 class labels & 13 of 64 images\r",
      "Processing 53 of 102 class labels & 14 of 64 images\r",
      "Processing 53 of 102 class labels & 15 of 64 images\r",
      "Processing 53 of 102 class labels & 16 of 64 images\r",
      "Processing 53 of 102 class labels & 17 of 64 images\r",
      "Processing 53 of 102 class labels & 18 of 64 images\r",
      "Processing 53 of 102 class labels & 19 of 64 images\r",
      "Processing 53 of 102 class labels & 20 of 64 images\r",
      "Processing 53 of 102 class labels & 21 of 64 images\r",
      "Processing 53 of 102 class labels & 22 of 64 images\r",
      "Processing 53 of 102 class labels & 23 of 64 images\r",
      "Processing 53 of 102 class labels & 24 of 64 images\r",
      "Processing 53 of 102 class labels & 25 of 64 images"
     ]
    },
    {
     "name": "stderr",
     "output_type": "stream",
     "text": [
      "could not broadcast input array from shape (2500) into shape (7500)"
     ]
    },
    {
     "name": "stdout",
     "output_type": "stream",
     "text": [
      "Processing 54 of 102 class labels & 77 of 86 images"
     ]
    },
    {
     "name": "stderr",
     "output_type": "stream",
     "text": [
      "could not broadcast input array from shape (2500) into shape (7500)"
     ]
    },
    {
     "name": "stdout",
     "output_type": "stream",
     "text": [
      "Processing 55 of 102 class labels & 43 of 114 images"
     ]
    },
    {
     "ename": "KeyboardInterrupt",
     "evalue": "",
     "output_type": "error",
     "traceback": [
      "\u001b[0;31m---------------------------------------------------------------------------\u001b[0m",
      "\u001b[0;31mKeyboardInterrupt\u001b[0m                         Traceback (most recent call last)",
      "\u001b[0;32m<ipython-input-4-e17a6b825c04>\u001b[0m in \u001b[0;36m<module>\u001b[0;34m()\u001b[0m\n\u001b[1;32m      1\u001b[0m \u001b[0mdata\u001b[0m \u001b[0;34m=\u001b[0m \u001b[0mImageDataset\u001b[0m\u001b[0;34m(\u001b[0m\u001b[0mdata_dir\u001b[0m\u001b[0;34m=\u001b[0m\u001b[0mdata_dir\u001b[0m\u001b[0;34m)\u001b[0m\u001b[0;34m\u001b[0m\u001b[0m\n\u001b[0;32m----> 2\u001b[0;31m \u001b[0mdata\u001b[0m\u001b[0;34m.\u001b[0m\u001b[0mcreate\u001b[0m\u001b[0;34m(\u001b[0m\u001b[0;34m)\u001b[0m\u001b[0;34m\u001b[0m\u001b[0m\n\u001b[0m\u001b[1;32m      3\u001b[0m \u001b[0mdata\u001b[0m\u001b[0;34m.\u001b[0m\u001b[0msave\u001b[0m\u001b[0;34m(\u001b[0m\u001b[0msave_file\u001b[0m\u001b[0;34m=\u001b[0m\u001b[0msave_file\u001b[0m\u001b[0;34m,\u001b[0m \u001b[0mforce\u001b[0m\u001b[0;34m=\u001b[0m\u001b[0;32mTrue\u001b[0m\u001b[0;34m)\u001b[0m\u001b[0;34m\u001b[0m\u001b[0m\n\u001b[1;32m      4\u001b[0m \u001b[0;31m# data = data.load(save_file=save_file)\u001b[0m\u001b[0;34m\u001b[0m\u001b[0;34m\u001b[0m\u001b[0m\n",
      "\u001b[0;32m/Users/victor/Documents/Code/IPython projects/101-objects-recognition/dataset.py\u001b[0m in \u001b[0;36mcreate\u001b[0;34m(self)\u001b[0m\n\u001b[1;32m     44\u001b[0m     \u001b[0;32mdef\u001b[0m \u001b[0mcreate\u001b[0m\u001b[0;34m(\u001b[0m\u001b[0mself\u001b[0m\u001b[0;34m)\u001b[0m\u001b[0;34m:\u001b[0m\u001b[0;34m\u001b[0m\u001b[0m\n\u001b[1;32m     45\u001b[0m         \u001b[0;34m\"\"\"Create datasets\"\"\"\u001b[0m\u001b[0;34m\u001b[0m\u001b[0m\n\u001b[0;32m---> 46\u001b[0;31m         \u001b[0mself\u001b[0m\u001b[0;34m.\u001b[0m\u001b[0m_process\u001b[0m\u001b[0;34m(\u001b[0m\u001b[0;34m)\u001b[0m\u001b[0;34m\u001b[0m\u001b[0m\n\u001b[0m\u001b[1;32m     47\u001b[0m         \u001b[0mself\u001b[0m\u001b[0;34m.\u001b[0m\u001b[0m_num_examples\u001b[0m \u001b[0;34m=\u001b[0m \u001b[0mself\u001b[0m\u001b[0;34m.\u001b[0m\u001b[0m_X\u001b[0m\u001b[0;34m.\u001b[0m\u001b[0mshape\u001b[0m\u001b[0;34m[\u001b[0m\u001b[0;36m0\u001b[0m\u001b[0;34m]\u001b[0m\u001b[0;34m\u001b[0m\u001b[0m\n\u001b[1;32m     48\u001b[0m \u001b[0;34m\u001b[0m\u001b[0m\n",
      "\u001b[0;32m/Users/victor/Documents/Code/IPython projects/101-objects-recognition/dataset.py\u001b[0m in \u001b[0;36m_process\u001b[0;34m(self)\u001b[0m\n\u001b[1;32m    337\u001b[0m                 \u001b[0;32mtry\u001b[0m\u001b[0;34m:\u001b[0m\u001b[0;34m\u001b[0m\u001b[0m\n\u001b[1;32m    338\u001b[0m                     \u001b[0mimage_file\u001b[0m \u001b[0;34m=\u001b[0m \u001b[0mos\u001b[0m\u001b[0;34m.\u001b[0m\u001b[0mpath\u001b[0m\u001b[0;34m.\u001b[0m\u001b[0mjoin\u001b[0m\u001b[0;34m(\u001b[0m\u001b[0mimage_dir\u001b[0m\u001b[0;34m,\u001b[0m \u001b[0mfile\u001b[0m\u001b[0;34m)\u001b[0m\u001b[0;34m\u001b[0m\u001b[0m\n\u001b[0;32m--> 339\u001b[0;31m                     \u001b[0mimg\u001b[0m \u001b[0;34m=\u001b[0m \u001b[0mself\u001b[0m\u001b[0;34m.\u001b[0m\u001b[0m__create_image\u001b[0m\u001b[0;34m(\u001b[0m\u001b[0mimage_file\u001b[0m\u001b[0;34m)\u001b[0m\u001b[0;34m\u001b[0m\u001b[0m\n\u001b[0m\u001b[1;32m    340\u001b[0m                     \u001b[0mhot_label\u001b[0m \u001b[0;34m=\u001b[0m \u001b[0mself\u001b[0m\u001b[0;34m.\u001b[0m\u001b[0m__create_label\u001b[0m\u001b[0;34m(\u001b[0m\u001b[0mlabel\u001b[0m\u001b[0;34m)\u001b[0m\u001b[0;34m\u001b[0m\u001b[0m\n\u001b[1;32m    341\u001b[0m                     \u001b[0mself\u001b[0m\u001b[0;34m.\u001b[0m\u001b[0m_X\u001b[0m\u001b[0;34m[\u001b[0m\u001b[0mcounter\u001b[0m\u001b[0;34m,\u001b[0m \u001b[0;34m:\u001b[0m\u001b[0;34m]\u001b[0m \u001b[0;34m=\u001b[0m \u001b[0mimg\u001b[0m\u001b[0;34m\u001b[0m\u001b[0m\n",
      "\u001b[0;32m/Users/victor/Documents/Code/IPython projects/101-objects-recognition/dataset.py\u001b[0m in \u001b[0;36m__create_image\u001b[0;34m(self, file, return_obj)\u001b[0m\n\u001b[1;32m    358\u001b[0m             \u001b[0;32mraise\u001b[0m \u001b[0mModuleNotFoundError\u001b[0m\u001b[0;34m(\u001b[0m\u001b[0;34m'{}'\u001b[0m\u001b[0;34m.\u001b[0m\u001b[0mformat\u001b[0m\u001b[0;34m(\u001b[0m\u001b[0mex\u001b[0m\u001b[0;34m)\u001b[0m\u001b[0;34m)\u001b[0m\u001b[0;34m\u001b[0m\u001b[0m\n\u001b[1;32m    359\u001b[0m         \u001b[0mimg\u001b[0m \u001b[0;34m=\u001b[0m \u001b[0mImage\u001b[0m\u001b[0;34m.\u001b[0m\u001b[0mopen\u001b[0m\u001b[0;34m(\u001b[0m\u001b[0mfile\u001b[0m\u001b[0;34m)\u001b[0m\u001b[0;34m\u001b[0m\u001b[0m\n\u001b[0;32m--> 360\u001b[0;31m         \u001b[0mimg\u001b[0m \u001b[0;34m=\u001b[0m \u001b[0mimg\u001b[0m\u001b[0;34m.\u001b[0m\u001b[0mresize\u001b[0m\u001b[0;34m(\u001b[0m\u001b[0;34m(\u001b[0m\u001b[0mself\u001b[0m\u001b[0;34m.\u001b[0m\u001b[0msize\u001b[0m\u001b[0;34m,\u001b[0m \u001b[0mself\u001b[0m\u001b[0;34m.\u001b[0m\u001b[0msize\u001b[0m\u001b[0;34m)\u001b[0m\u001b[0;34m)\u001b[0m\u001b[0;34m\u001b[0m\u001b[0m\n\u001b[0m\u001b[1;32m    361\u001b[0m         \u001b[0;32mif\u001b[0m \u001b[0mself\u001b[0m\u001b[0;34m.\u001b[0m\u001b[0mgrayscale\u001b[0m\u001b[0;34m:\u001b[0m\u001b[0;34m\u001b[0m\u001b[0m\n\u001b[1;32m    362\u001b[0m             \u001b[0mimg\u001b[0m \u001b[0;34m=\u001b[0m \u001b[0mimg\u001b[0m\u001b[0;34m.\u001b[0m\u001b[0mconvert\u001b[0m\u001b[0;34m(\u001b[0m\u001b[0;34m'L'\u001b[0m\u001b[0;34m)\u001b[0m\u001b[0;34m\u001b[0m\u001b[0m\n",
      "\u001b[0;32m/Library/Frameworks/Python.framework/Versions/3.6/lib/python3.6/site-packages/PIL/Image.py\u001b[0m in \u001b[0;36mresize\u001b[0;34m(self, size, resample, box)\u001b[0m\n\u001b[1;32m   1741\u001b[0m             \u001b[0;32mreturn\u001b[0m \u001b[0mself\u001b[0m\u001b[0;34m.\u001b[0m\u001b[0mconvert\u001b[0m\u001b[0;34m(\u001b[0m\u001b[0;34m'RGBa'\u001b[0m\u001b[0;34m)\u001b[0m\u001b[0;34m.\u001b[0m\u001b[0mresize\u001b[0m\u001b[0;34m(\u001b[0m\u001b[0msize\u001b[0m\u001b[0;34m,\u001b[0m \u001b[0mresample\u001b[0m\u001b[0;34m,\u001b[0m \u001b[0mbox\u001b[0m\u001b[0;34m)\u001b[0m\u001b[0;34m.\u001b[0m\u001b[0mconvert\u001b[0m\u001b[0;34m(\u001b[0m\u001b[0;34m'RGBA'\u001b[0m\u001b[0;34m)\u001b[0m\u001b[0;34m\u001b[0m\u001b[0m\n\u001b[1;32m   1742\u001b[0m \u001b[0;34m\u001b[0m\u001b[0m\n\u001b[0;32m-> 1743\u001b[0;31m         \u001b[0mself\u001b[0m\u001b[0;34m.\u001b[0m\u001b[0mload\u001b[0m\u001b[0;34m(\u001b[0m\u001b[0;34m)\u001b[0m\u001b[0;34m\u001b[0m\u001b[0m\n\u001b[0m\u001b[1;32m   1744\u001b[0m \u001b[0;34m\u001b[0m\u001b[0m\n\u001b[1;32m   1745\u001b[0m         \u001b[0;32mreturn\u001b[0m \u001b[0mself\u001b[0m\u001b[0;34m.\u001b[0m\u001b[0m_new\u001b[0m\u001b[0;34m(\u001b[0m\u001b[0mself\u001b[0m\u001b[0;34m.\u001b[0m\u001b[0mim\u001b[0m\u001b[0;34m.\u001b[0m\u001b[0mresize\u001b[0m\u001b[0;34m(\u001b[0m\u001b[0msize\u001b[0m\u001b[0;34m,\u001b[0m \u001b[0mresample\u001b[0m\u001b[0;34m,\u001b[0m \u001b[0mbox\u001b[0m\u001b[0;34m)\u001b[0m\u001b[0;34m)\u001b[0m\u001b[0;34m\u001b[0m\u001b[0m\n",
      "\u001b[0;32m/Library/Frameworks/Python.framework/Versions/3.6/lib/python3.6/site-packages/PIL/ImageFile.py\u001b[0m in \u001b[0;36mload\u001b[0;34m(self)\u001b[0m\n\u001b[1;32m    234\u001b[0m \u001b[0;34m\u001b[0m\u001b[0m\n\u001b[1;32m    235\u001b[0m                         \u001b[0mb\u001b[0m \u001b[0;34m=\u001b[0m \u001b[0mb\u001b[0m \u001b[0;34m+\u001b[0m \u001b[0ms\u001b[0m\u001b[0;34m\u001b[0m\u001b[0m\n\u001b[0;32m--> 236\u001b[0;31m                         \u001b[0mn\u001b[0m\u001b[0;34m,\u001b[0m \u001b[0merr_code\u001b[0m \u001b[0;34m=\u001b[0m \u001b[0mdecoder\u001b[0m\u001b[0;34m.\u001b[0m\u001b[0mdecode\u001b[0m\u001b[0;34m(\u001b[0m\u001b[0mb\u001b[0m\u001b[0;34m)\u001b[0m\u001b[0;34m\u001b[0m\u001b[0m\n\u001b[0m\u001b[1;32m    237\u001b[0m                         \u001b[0;32mif\u001b[0m \u001b[0mn\u001b[0m \u001b[0;34m<\u001b[0m \u001b[0;36m0\u001b[0m\u001b[0;34m:\u001b[0m\u001b[0;34m\u001b[0m\u001b[0m\n\u001b[1;32m    238\u001b[0m                             \u001b[0;32mbreak\u001b[0m\u001b[0;34m\u001b[0m\u001b[0m\n",
      "\u001b[0;31mKeyboardInterrupt\u001b[0m: "
     ]
    }
   ],
   "source": [
    "data = ImageDataset(data_dir=data_dir)\n",
    "data.create()\n",
    "data.save(save_file=save_file, force=True)\n",
    "# data = data.load(save_file=save_file)"
   ]
  },
  {
   "cell_type": "code",
   "execution_count": null,
   "metadata": {
    "collapsed": false
   },
   "outputs": [],
   "source": []
  },
  {
   "cell_type": "code",
   "execution_count": null,
   "metadata": {
    "collapsed": true
   },
   "outputs": [],
   "source": []
  }
 ],
 "metadata": {
  "kernelspec": {
   "display_name": "Python 3",
   "language": "python",
   "name": "python3"
  },
  "language_info": {
   "codemirror_mode": {
    "name": "ipython",
    "version": 3
   },
   "file_extension": ".py",
   "mimetype": "text/x-python",
   "name": "python",
   "nbconvert_exporter": "python",
   "pygments_lexer": "ipython3",
   "version": "3.6.3"
  }
 },
 "nbformat": 4,
 "nbformat_minor": 2
}
