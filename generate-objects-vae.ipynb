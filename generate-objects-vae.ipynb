{
 "cells": [
  {
   "cell_type": "markdown",
   "metadata": {},
   "source": [
    "# Generating new Objects w/ `Variational Auto Encoders (VAEs)`\n",
    "\n",
    "### Import dependencies"
   ]
  },
  {
   "cell_type": "code",
   "execution_count": 1,
   "metadata": {
    "collapsed": true
   },
   "outputs": [],
   "source": [
    "import os\n",
    "import sys\n",
    "import datetime as dt\n",
    "\n",
    "import numpy as np\n",
    "import tensorflow as tf\n",
    "\n",
    "%matplotlib inline"
   ]
  },
  {
   "cell_type": "markdown",
   "metadata": {},
   "source": [
    "### Load dataset"
   ]
  },
  {
   "cell_type": "code",
   "execution_count": null,
   "metadata": {
    "collapsed": false
   },
   "outputs": [
    {
     "name": "stdout",
     "output_type": "stream",
     "text": [
      "1 of 102 labels\t272 of 468 images..."
     ]
    }
   ],
   "source": [
    "# from tensorflow.examples.tutorials.mnist import input_data\n",
    "\n",
    "# data_dir = 'datasets/MNIST/'\n",
    "# data = input_data.read_data_sets(data_dir, one_hot=True)\n",
    "\n",
    "from dataset import ImageDataset\n",
    "\n",
    "data_dir = 'datasets/101_ObjectCategories/'\n",
    "save_file = 'saved/data.pkl'\n",
    "\n",
    "data = ImageDataset(data_dir=data_dir, size=64, grayscale=True, flatten=True)\n",
    "data.create()\n",
    "data.save(save_file=save_file)\n",
    "# data = data.load(save_file=save_file)"
   ]
  },
  {
   "cell_type": "markdown",
   "metadata": {},
   "source": [
    "### Hyperparameters"
   ]
  },
  {
   "cell_type": "code",
   "execution_count": null,
   "metadata": {
    "collapsed": false,
    "scrolled": true
   },
   "outputs": [],
   "source": [
    "# Inputs\n",
    "img_size = data.size  # 28\n",
    "img_channel = data.channel  # 1\n",
    "img_size_flat = img_size * img_size * img_channel\n",
    "print(f'Images »»» Size: {img_size:,}\\tChannel: {img_channel:,}\\tFlattened: {img_size_flat:,}')"
   ]
  },
  {
   "cell_type": "code",
   "execution_count": null,
   "metadata": {
    "collapsed": true
   },
   "outputs": [],
   "source": [
    "# Network\n",
    "kernel_size = 4\n",
    "stride      = 2\n",
    "conv1_size  = 32\n",
    "conv2_size  = 64\n",
    "hidden_size = 256\n",
    "latent_size = 128\n",
    "fc1_size    = 256\n",
    "fc2_size    = 64\n",
    "keep_prob   = 0.8"
   ]
  },
  {
   "cell_type": "code",
   "execution_count": null,
   "metadata": {
    "collapsed": true
   },
   "outputs": [],
   "source": [
    "# Training\n",
    "batch_size    = 24\n",
    "learning_rate = .01\n",
    "save_interval = 100\n",
    "log_interval  = 1000\n",
    "iterations    = 10000"
   ]
  },
  {
   "cell_type": "markdown",
   "metadata": {},
   "source": [
    "### Helpers"
   ]
  },
  {
   "cell_type": "code",
   "execution_count": null,
   "metadata": {
    "collapsed": true
   },
   "outputs": [],
   "source": [
    "# import matplotlib.pyplot as plt\n",
    "\n",
    "# def visualize(imgs, name=None, smooth=False, **kwargs):\n",
    "#     # Plot images in grid\n",
    "#     grid = int(np.sqrt(len(imgs)))\n",
    "#     # Create figure with sub-plots.\n",
    "#     fig, axes = plt.subplots(grid, grid)\n",
    "#     fig.subplots_adjust(hspace=0.3, wspace=0.3)\n",
    "\n",
    "#     for i, ax in enumerate(axes.flat):\n",
    "#         # Interpolation type.\n",
    "#         interpolation = 'spline16' if smooth else 'nearest'\n",
    "#         shape = [img_size, img_size]\n",
    "#         ax.imshow(imgs[i].reshape(shape), interpolation=interpolation, **kwargs)\n",
    "#         # Remove ticks from the plot.\n",
    "#         ax.set_xticks([])\n",
    "#         ax.set_yticks([])\n",
    "#     if name:\n",
    "#         plt.suptitle(name)\n",
    "#     plt.show()"
   ]
  },
  {
   "cell_type": "code",
   "execution_count": null,
   "metadata": {
    "collapsed": true
   },
   "outputs": [],
   "source": [
    "def encoder(image, is_training=False):\n",
    "    with tf.name_scope('encoder'):\n",
    "        net = tf.reshape(image, [-1, img_size, img_size, img_channel])\n",
    "        net = tf.contrib.layers.conv2d(net, conv1_size, kernel_size=kernel_size, stride=stride)\n",
    "        net = tf.contrib.layers.batch_norm(net, is_training=is_training)\n",
    "        net = tf.contrib.layers.conv2d(net, conv1_size, kernel_size=kernel_size, stride=stride)\n",
    "        net = tf.contrib.layers.batch_norm(net, is_training=is_training)\n",
    "        net = tf.contrib.layers.flatten(net)\n",
    "        net = tf.contrib.layers.fully_connected(net, hidden_size)\n",
    "        mean = tf.contrib.layers.fully_connected(net, latent_size, activation_fn=None)\n",
    "        stddev = 0.5 * tf.contrib.layers.fully_connected(net, latent_size, activation_fn=None)\n",
    "        noise = tf.random_normal(shape=[1, latent_size])\n",
    "        encoded = mean + tf.multiply(noise, tf.exp(0.5 * stddev))\n",
    "        return encoded, mean, stddev"
   ]
  },
  {
   "cell_type": "code",
   "execution_count": null,
   "metadata": {
    "collapsed": true
   },
   "outputs": [],
   "source": [
    "def decoder(encoded):\n",
    "    with tf.name_scope('decoder'):\n",
    "        net = tf.contrib.layers.fully_connected(encoded, latent_size)\n",
    "        net = tf.contrib.layers.fully_connected(net, hidden_size)\n",
    "        net = tf.contrib.layers.fully_connected(net, fc1_size)\n",
    "        net = tf.contrib.layers.fully_connected(net, fc2_size)\n",
    "        net = tf.contrib.layers.fully_connected(net, img_size_flat, activation_fn=tf.nn.sigmoid)\n",
    "        img = tf.reshape(net, [-1, img_size, img_size, img_channel])\n",
    "        return net, img"
   ]
  },
  {
   "cell_type": "code",
   "execution_count": null,
   "metadata": {
    "collapsed": false
   },
   "outputs": [],
   "source": [
    "tf.reset_default_graph()\n",
    "\n",
    "X = tf.placeholder(tf.float32, shape=[None, img_size_flat])"
   ]
  },
  {
   "cell_type": "code",
   "execution_count": null,
   "metadata": {
    "collapsed": false,
    "scrolled": true
   },
   "outputs": [],
   "source": [
    "encoded, mean, stddev = encoder(X, is_training=True)\n",
    "decoded, d_img = decoder(encoded)"
   ]
  },
  {
   "cell_type": "markdown",
   "metadata": {},
   "source": [
    "### Loss function"
   ]
  },
  {
   "cell_type": "code",
   "execution_count": null,
   "metadata": {
    "collapsed": true
   },
   "outputs": [],
   "source": [
    "rec_loss = tf.reduce_sum(tf.squared_difference(X, decoded), reduction_indices=1)\n",
    "kl_term = -0.5 * tf.reduce_sum(1.0 + 2.0 * stddev - tf.square(mean) - tf.exp(2.0 * stddev), reduction_indices=1)\n",
    "loss = tf.reduce_mean(rec_loss + kl_term)"
   ]
  },
  {
   "cell_type": "markdown",
   "metadata": {},
   "source": [
    "### Optimizer"
   ]
  },
  {
   "cell_type": "code",
   "execution_count": null,
   "metadata": {
    "collapsed": true
   },
   "outputs": [],
   "source": [
    "global_step = tf.Variable(0, trainable=False, name='global_step')\n",
    "optimizer = tf.train.AdamOptimizer(learning_rate=learning_rate)\n",
    "train = optimizer.minimize(loss, global_step=global_step)"
   ]
  },
  {
   "cell_type": "markdown",
   "metadata": {},
   "source": [
    "## Running the computational graph"
   ]
  },
  {
   "cell_type": "code",
   "execution_count": null,
   "metadata": {
    "collapsed": true
   },
   "outputs": [],
   "source": [
    "sess = tf.Session()\n",
    "init = tf.global_variables_initializer()\n",
    "sess.run(init)"
   ]
  },
  {
   "cell_type": "markdown",
   "metadata": {},
   "source": [
    "### Tensoboard"
   ]
  },
  {
   "cell_type": "code",
   "execution_count": null,
   "metadata": {
    "collapsed": true
   },
   "outputs": [],
   "source": [
    "tensorboard_dir = 'tensorboard/generate/vae/'\n",
    "logdir = os.path.join(tensorboard_dir, 'log')\n",
    "save_path = 'models/generate/vae/'\n",
    "save_model = os.path.join(save_path, 'model.ckpt')\n",
    "\n",
    "tf.summary.histogram('rec_loss', rec_loss)\n",
    "tf.summary.histogram('kl_term', kl_term)\n",
    "tf.summary.scalar('rec_loss_mean', tf.reduce_mean(rec_loss))\n",
    "tf.summary.scalar('kl_term_mean', tf.reduce_mean(kl_term))\n",
    "tf.summary.scalar('loss', loss)\n",
    "tf.summary.image('decoded', d_img, max_outputs=6)\n",
    "merged = tf.summary.merge_all()\n",
    "\n",
    "saver = tf.train.Saver()\n",
    "writer = tf.summary.FileWriter(logdir=logdir, graph=sess.graph)"
   ]
  },
  {
   "cell_type": "code",
   "execution_count": null,
   "metadata": {
    "collapsed": false
   },
   "outputs": [],
   "source": [
    "if tf.gfile.Exists(save_path):\n",
    "    try:\n",
    "        sys.stdout.write('INFO: Attempting to restore last checkpoint.\\n')\n",
    "        last_ckpt = tf.train.latest_checkpoint(save_path)\n",
    "        saver.restore(sess=sess, save_path=last_ckpt)\n",
    "        sys.stdout.write(f'INFO: Restored last checkpoint from {last_ckpt}\\n')\n",
    "        sys.stdout.flush()\n",
    "    except Exception as e:\n",
    "        sys.stderr.write(f'ERR: Could not restore checkpoint. {e}')\n",
    "        sys.stderr.flush()\n",
    "else:\n",
    "    tf.gfile.MakeDirs(save_path)\n",
    "    sys.stdout.write(f'INFO: Created checkpoint directory: {save_path}\\n')\n",
    "    sys.stdout.flush()"
   ]
  },
  {
   "cell_type": "markdown",
   "metadata": {},
   "source": [
    "### Training"
   ]
  },
  {
   "cell_type": "code",
   "execution_count": null,
   "metadata": {
    "collapsed": false,
    "scrolled": false
   },
   "outputs": [],
   "source": [
    "start_time = dt.datetime.now()\n",
    "\n",
    "for i in range(iterations):\n",
    "    X_batch = data.next_batch(batch_size=batch_size)[0]\n",
    "    _, _loss, _i_global = sess.run([train, loss, global_step], feed_dict={X: X_batch})\n",
    "    if i%save_interval == 0:\n",
    "        saver.save(sess=sess, save_path=save_model, global_step=global_step)\n",
    "        summary = sess.run(merged, feed_dict={X: X_batch})\n",
    "        writer.add_summary(summary=summary, global_step=_i_global)\n",
    "    if i%log_interval == 0:\n",
    "        randoms = [np.random.normal(0, 1, latent_size) for _ in range(9)]\n",
    "        imgs = sess.run(decoded, feed_dict={encoded: randoms})\n",
    "        data.visualize(imgs, name='Decoded images', smooth=False, cmap='gray')\n",
    "        # visualize(imgs, name='Decoded images', smooth=True, cmap='Greys')\n",
    "    sys.stdout.write(f'\\rIter: {i+1:,}\\tGlobal: {_i_global:,}\\tLoss: {_loss}\\t'\n",
    "                     f'Time: {dt.datetime.now() - start_time}')\n",
    "    sys.stdout.flush()"
   ]
  },
  {
   "cell_type": "code",
   "execution_count": null,
   "metadata": {
    "collapsed": true
   },
   "outputs": [],
   "source": []
  }
 ],
 "metadata": {
  "kernelspec": {
   "display_name": "Python 3",
   "language": "python",
   "name": "python3"
  },
  "language_info": {
   "codemirror_mode": {
    "name": "ipython",
    "version": 3
   },
   "file_extension": ".py",
   "mimetype": "text/x-python",
   "name": "python",
   "nbconvert_exporter": "python",
   "pygments_lexer": "ipython3",
   "version": "3.6.3"
  }
 },
 "nbformat": 4,
 "nbformat_minor": 2
}
