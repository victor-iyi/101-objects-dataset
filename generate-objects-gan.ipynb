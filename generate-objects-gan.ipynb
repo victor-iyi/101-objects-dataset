{
 "cells": [
  {
   "cell_type": "markdown",
   "metadata": {},
   "source": [
    "# Generating new Objects w/ `Generative Adversarial Network (GAN)`\n",
    "\n",
    "### Import dependencies"
   ]
  },
  {
   "cell_type": "code",
   "execution_count": 1,
   "metadata": {
    "collapsed": true
   },
   "outputs": [],
   "source": [
    "import os\n",
    "import sys\n",
    "import datetime as dt\n",
    "\n",
    "import numpy as np\n",
    "import tensorflow as tf\n",
    "\n",
    "%matplotlib inline"
   ]
  },
  {
   "cell_type": "code",
   "execution_count": 2,
   "metadata": {
    "collapsed": false
   },
   "outputs": [
    {
     "name": "stdout",
     "output_type": "stream",
     "text": [
      "Extracting datasets/MNIST/train-images-idx3-ubyte.gz\n",
      "Extracting datasets/MNIST/train-labels-idx1-ubyte.gz\n",
      "Extracting datasets/MNIST/t10k-images-idx3-ubyte.gz\n",
      "Extracting datasets/MNIST/t10k-labels-idx1-ubyte.gz\n"
     ]
    }
   ],
   "source": [
    "from tensorflow.examples.tutorials.mnist import input_data\n",
    "\n",
    "data_dir = 'datasets/MNIST/'\n",
    "data = input_data.read_data_sets(data_dir, one_hot=True)\n",
    "\n",
    "# from dataset import ImageDataset\n",
    "\n",
    "# data_dir = 'datasets/101_ObjectCategories/'\n",
    "# save_file = 'saved/data.pkl'\n",
    "\n",
    "# data = ImageDataset(data_dir=data_dir, size=24, grayscale=True, flatten=True)\n",
    "# data.create()\n",
    "# data.save(save_file=save_file, force=True)\n",
    "# # data = data.load(save_file=save_file)"
   ]
  },
  {
   "cell_type": "markdown",
   "metadata": {},
   "source": [
    "### Hyperparameters"
   ]
  },
  {
   "cell_type": "code",
   "execution_count": 3,
   "metadata": {
    "collapsed": false
   },
   "outputs": [
    {
     "name": "stdout",
     "output_type": "stream",
     "text": [
      "Images »»» Size: 28\tChannel: 1\tFlattened: 784\n"
     ]
    }
   ],
   "source": [
    "# Inputs\n",
    "img_size = 28    # data.size\n",
    "img_channel = 1  # data.channel\n",
    "img_size_flat = img_size * img_size * img_channel\n",
    "print(f'Images »»» Size: {img_size:,}\\tChannel: {img_channel:,}\\tFlattened: {img_size_flat:,}')"
   ]
  },
  {
   "cell_type": "code",
   "execution_count": 4,
   "metadata": {
    "collapsed": true
   },
   "outputs": [],
   "source": [
    "# Network\n",
    "kernel_size = 5\n",
    "n_noise     = 64\n",
    "keep_prob   = 0.8"
   ]
  },
  {
   "cell_type": "code",
   "execution_count": 5,
   "metadata": {
    "collapsed": true
   },
   "outputs": [],
   "source": [
    "# Training\n",
    "batch_size    = 24\n",
    "learning_rate = .01\n",
    "save_interval = 100\n",
    "log_interval  = 1000\n",
    "iterations    = 10000"
   ]
  },
  {
   "cell_type": "markdown",
   "metadata": {},
   "source": [
    "### Helpers"
   ]
  },
  {
   "cell_type": "code",
   "execution_count": 6,
   "metadata": {
    "collapsed": true
   },
   "outputs": [],
   "source": [
    "import matplotlib.pyplot as plt\n",
    "\n",
    "def visualize(imgs, name=None, smooth=False, **kwargs):\n",
    "    # Plot images in grid\n",
    "    grid = int(np.sqrt(len(imgs)))\n",
    "    # Create figure with sub-plots.\n",
    "    fig, axes = plt.subplots(grid, grid)\n",
    "    fig.subplots_adjust(hspace=0.3, wspace=0.3)\n",
    "\n",
    "    for i, ax in enumerate(axes.flat):\n",
    "        # Interpolation type.\n",
    "        interpolation = 'spline16' if smooth else 'nearest'\n",
    "        shape = [img_size, img_size]\n",
    "        ax.imshow(imgs[i].reshape(shape), interpolation=interpolation, **kwargs)\n",
    "        # Remove ticks from the plot.\n",
    "        ax.set_xticks([])\n",
    "        ax.set_yticks([])\n",
    "    if name:\n",
    "        plt.suptitle(name)\n",
    "    plt.show()"
   ]
  },
  {
   "cell_type": "code",
   "execution_count": 7,
   "metadata": {
    "collapsed": true
   },
   "outputs": [],
   "source": [
    "def lrelu(x, alpha=0.2):\n",
    "    return tf.maximum(x, tf.multiply(x, alpha))"
   ]
  },
  {
   "cell_type": "code",
   "execution_count": 8,
   "metadata": {
    "collapsed": true
   },
   "outputs": [],
   "source": [
    "def binary_cross_entropy(x, z, eps=1e-12):\n",
    "    return (-(x * tf.log(z + eps) + (1. - x) * tf.log(1. - z + eps)))"
   ]
  },
  {
   "cell_type": "markdown",
   "metadata": {},
   "source": [
    "### The Discriminator"
   ]
  },
  {
   "cell_type": "code",
   "execution_count": 9,
   "metadata": {
    "collapsed": true
   },
   "outputs": [],
   "source": [
    "def discriminator(X, reuse=None):\n",
    "    with tf.variable_scope('discriminator', reuse=reuse):\n",
    "        net = X\n",
    "        # reshape\n",
    "        net = tf.reshape(net, [-1, img_size, img_size, img_channel])\n",
    "        # conv + dropout\n",
    "        net = tf.layers.conv2d(net, filters=64, kernel_size=5, strides=2, padding='SAME', activation=lrelu)\n",
    "        net = tf.nn.dropout(net, keep_prob=keep_prob)\n",
    "        # conv + dropout\n",
    "        net = tf.layers.conv2d(net, filters=64, kernel_size=5, strides=1, padding='SAME', activation=lrelu)\n",
    "        net = tf.nn.dropout(net, keep_prob=keep_prob)\n",
    "        # conv + dropout\n",
    "        net = tf.layers.conv2d(net, filters=64, kernel_size=5, strides=1, padding='SAME', activation=lrelu)\n",
    "        net = tf.nn.dropout(net, keep_prob=keep_prob)\n",
    "        # flatten\n",
    "        net = tf.contrib.layers.flatten(net)\n",
    "        # 2 fully connected layers\n",
    "        net = tf.layers.dense(net, units=128, activation=lrelu)\n",
    "        net = tf.layers.dense(net, units=1, activation=tf.nn.sigmoid)\n",
    "        return net"
   ]
  },
  {
   "cell_type": "markdown",
   "metadata": {},
   "source": [
    "### The Generator"
   ]
  },
  {
   "cell_type": "code",
   "execution_count": 10,
   "metadata": {
    "collapsed": true
   },
   "outputs": [],
   "source": [
    "def generator(noise, reuse=None, is_training=False):\n",
    "    decay = 0.99\n",
    "    with tf.variable_scope('generator', reuse=reuse):\n",
    "        net = noise\n",
    "        d1 = 4\n",
    "        d2 = 1\n",
    "        # fully connected + dropout + batch norm\n",
    "        net = tf.layers.dense(net, units=d1*d1*d2, activation=lrelu)\n",
    "        net = tf.nn.dropout(net, keep_prob=keep_prob)\n",
    "        net = tf.contrib.layers.batch_norm(net, decay=decay, is_training=is_training)\n",
    "        # reshape + resize\n",
    "        net = tf.reshape(net, shape=[-1, d1, d1, d2])\n",
    "        net = tf.image.resize_images(net, size=[7, 7])\n",
    "        # conv transpose + dropout + batch_norm\n",
    "        net = tf.layers.conv2d_transpose(net, filters=64, kernel_size=5, strides=2, padding='SAME', activation=lrelu)\n",
    "        net = tf.nn.dropout(net, keep_prob=keep_prob)\n",
    "        net = tf.contrib.layers.batch_norm(net, decay=decay, is_training=is_training)\n",
    "        # conv transpose + dropout + batch_norm\n",
    "        net = tf.layers.conv2d_transpose(net, filters=64, kernel_size=5, strides=2, padding='SAME', activation=lrelu)\n",
    "        net = tf.nn.dropout(net, keep_prob=keep_prob)\n",
    "        net = tf.contrib.layers.batch_norm(net, decay=decay, is_training=is_training)\n",
    "        # conv transpose + dropout + batch_norm\n",
    "        net = tf.layers.conv2d_transpose(net, filters=64, kernel_size=5, strides=1, padding='SAME', activation=lrelu)\n",
    "        net = tf.nn.dropout(net, keep_prob=keep_prob)\n",
    "        net = tf.contrib.layers.batch_norm(net, decay=decay, is_training=is_training)\n",
    "        # conv transpose\n",
    "        net = tf.layers.conv2d_transpose(net, filters=64, kernel_size=5, strides=1, padding='SAME', activation=tf.nn.sigmoid)\n",
    "        return net"
   ]
  },
  {
   "cell_type": "code",
   "execution_count": 20,
   "metadata": {
    "collapsed": true
   },
   "outputs": [],
   "source": [
    "tf.reset_default_graph()\n",
    "\n",
    "X = tf.placeholder(tf.float32, shape=[None, img_size_flat])\n",
    "noise = tf.placeholder(tf.float32, shape=[None, n_noise])"
   ]
  },
  {
   "cell_type": "code",
   "execution_count": 21,
   "metadata": {
    "collapsed": false
   },
   "outputs": [
    {
     "name": "stdout",
     "output_type": "stream",
     "text": [
      "Tensor(\"generator/conv2d_transpose_4/Sigmoid:0\", shape=(?, 28, 28, 64), dtype=float32)\n",
      "Tensor(\"discriminator/dense_2/Sigmoid:0\", shape=(?, 1), dtype=float32)\n",
      "Tensor(\"discriminator_1/dense_2/Sigmoid:0\", shape=(?, 1), dtype=float32)\n"
     ]
    }
   ],
   "source": [
    "G = generator(noise, is_training=True)\n",
    "Dx = discriminator(X, reuse=None)\n",
    "Dg = discriminator(G, reuse=True)\n",
    "print(G)\n",
    "print(Dx)\n",
    "print(Dg)"
   ]
  },
  {
   "cell_type": "markdown",
   "metadata": {},
   "source": [
    "### Loss function"
   ]
  },
  {
   "cell_type": "code",
   "execution_count": 13,
   "metadata": {
    "collapsed": true
   },
   "outputs": [],
   "source": [
    "# Discriminator's loss (Real->rated highly, Fake->rated poorly)\n",
    "loss_d_real = tf.nn.softmax_cross_entropy_with_logits(logits=Dx, labels=tf.ones_like(Dx))\n",
    "loss_d_fake = tf.nn.softmax_cross_entropy_with_logits(logits=Dg, labels=tf.zeros_like(Dg))\n",
    "loss_d = tf.reduce_mean(0.5 * (loss_d_real + loss_d_fake), name='loss_d')\n",
    "# Generator's loss (Generator->rated highly)\n",
    "loss_g = tf.reduce_mean(tf.nn.softmax_cross_entropy_with_logits(logits=G, labels=tf.ones_like(G)), name='loss_g')"
   ]
  },
  {
   "cell_type": "markdown",
   "metadata": {},
   "source": [
    "### Optimizer & Regularizer"
   ]
  },
  {
   "cell_type": "code",
   "execution_count": 14,
   "metadata": {
    "collapsed": false
   },
   "outputs": [],
   "source": [
    "# Trainable variables for generator & discriminator\n",
    "d_vars = [var for var in tf.trainable_variables() if var.name.startswith('discriminator')]\n",
    "g_vars = [var for var in tf.trainable_variables() if var.name.startswith('generator')]\n",
    "\n",
    "\n",
    "# Regularizer for generator & discriminator\n",
    "regularizer = tf.contrib.layers.l2_regularizer(scale=1e-6)\n",
    "d_reg = tf.contrib.layers.apply_regularization(regularizer=regularizer, weights_list=d_vars)\n",
    "g_reg = tf.contrib.layers.apply_regularization(regularizer=regularizer, weights_list=g_vars)\n",
    "\n",
    "\n",
    "# We have to provide the update_ops to our optimizers when applying batch normalization\n",
    "update_ops = tf.get_collection(key=tf.GraphKeys.UPDATE_OPS)\n",
    "with tf.control_dependencies(control_inputs=update_ops):\n",
    "    d_global_step = tf.Variable(0, trainable=False, name='d_global_step')\n",
    "    g_global_step = tf.Variable(0, trainable=False, name='g_global_step')\n",
    "    # Optimizer for Discriminator\n",
    "    optimizer_d = tf.train.RMSPropOptimizer(learning_rate=learning_rate)\n",
    "    optimizer_d = optimizer_d.minimize(loss_d + d_reg, global_step=d_global_step, var_list=d_vars)\n",
    "    # Optimizer for Generator\n",
    "    optimizer_g = tf.train.RMSPropOptimizer(learning_rate=learning_rate)\n",
    "    optimizer_g = optimizer_g.minimize(loss_g + g_reg, global_step=g_global_step, var_list=g_vars)"
   ]
  },
  {
   "cell_type": "markdown",
   "metadata": {},
   "source": [
    "## Running the Computational Graph"
   ]
  },
  {
   "cell_type": "code",
   "execution_count": 15,
   "metadata": {
    "collapsed": true
   },
   "outputs": [],
   "source": [
    "sess = tf.Session()\n",
    "init = tf.global_variables_initializer()\n",
    "sess.run(init)"
   ]
  },
  {
   "cell_type": "markdown",
   "metadata": {},
   "source": [
    "### Tensorboard"
   ]
  },
  {
   "cell_type": "code",
   "execution_count": 16,
   "metadata": {
    "collapsed": false
   },
   "outputs": [],
   "source": [
    "# Tensorboard & Model's directory\n",
    "tensorboard_dir = 'tensorboard/generate/gan/'\n",
    "logdir = os.path.join(tensorboard_dir, 'log')\n",
    "save_path = 'models/generate/gan/'\n",
    "save_model = os.path.join(save_path, 'model.ckpt')\n",
    "\n",
    "# Summary\n",
    "tf.summary.scalar('loss_d_real', loss_d_real)\n",
    "tf.summary.scalar('loss_d_fake', loss_d_fake)\n",
    "tf.summary.scalar('loss_d', loss_d)\n",
    "tf.summary.scalar('loss_g', loss_g)\n",
    "gen_img = generator(noise, reuse=True, is_training=False)\n",
    "tf.summary.image('gen_img', gen_img, max_outputs=6)\n",
    "merged = tf.summary.merge_all()\n",
    "\n",
    "# Saver & Writer\n",
    "saver = tf.train.Saver()\n",
    "writer = tf.summary.FileWriter(logdir=logdir, graph=sess.graph)"
   ]
  },
  {
   "cell_type": "code",
   "execution_count": 17,
   "metadata": {
    "collapsed": false
   },
   "outputs": [
    {
     "name": "stderr",
     "output_type": "stream",
     "text": [
      "ERR: Could not restore checkpoint. Can't load save_path when it is None."
     ]
    },
    {
     "name": "stdout",
     "output_type": "stream",
     "text": [
      "INFO: Attempting to restore last checkpoint.\n"
     ]
    }
   ],
   "source": [
    "if tf.gfile.Exists(save_path):\n",
    "    try:\n",
    "        sys.stdout.write('INFO: Attempting to restore last checkpoint.\\n')\n",
    "        last_ckpt = tf.train.latest_checkpoint(save_path)\n",
    "        saver.restore(sess=sess, save_path=last_ckpt)\n",
    "        sys.stdout.write(f'INFO: Restored last checkpoint from {last_ckpt}\\n')\n",
    "        sys.stdout.flush()\n",
    "    except Exception as e:\n",
    "        sys.stderr.write(f'ERR: Could not restore checkpoint. {e}')\n",
    "        sys.stderr.flush()\n",
    "else:\n",
    "    tf.gfile.MakeDirs(save_path)\n",
    "    sys.stdout.write(f'INFO: Created checkpoint directory: {save_path}\\n')\n",
    "    sys.stdout.flush()"
   ]
  },
  {
   "cell_type": "markdown",
   "metadata": {},
   "source": [
    "### Training"
   ]
  },
  {
   "cell_type": "code",
   "execution_count": null,
   "metadata": {
    "collapsed": false
   },
   "outputs": [],
   "source": [
    "start_time = dt.datetime.now()\n",
    "\n",
    "for i in range(iterations):\n",
    "    train_d = True\n",
    "    train_g = True\n",
    "    \n",
    "    X_batch = data.train.next_batch(batch_size=batch_size)[0]\n",
    "    n = np.random.uniform(low=0.0, high=1.0, size=[batch_size, n_noise])\n",
    "    feed_dict = {X: X_batch, noise: n}\n",
    "    # Run the losses\n",
    "    _d_real, _d_fake, _loss_d, _loss_g, _d_global, _g_global = sess.run([loss_d_real, loss_d_fake, \n",
    "                                                                         loss_d, loss_g, \n",
    "                                                                         d_global_step, \n",
    "                                                                         g_global_step], \n",
    "                                                                        feed_dict=feed_dict)\n",
    "    _d_real, _d_fake = np.mean(_d_real), np.mean(_d_fake)\n",
    "    \n",
    "    # Stop training discriminator\n",
    "    if _loss_g * 1.5 < _loss_d:\n",
    "        train_d = False\n",
    "        sys.stderr.write(f'Discriminator stopped training!'\n",
    "                         f'Real: {_d_real:.2f}\\tFake: {_d_fake:.2f}\\t'\n",
    "                         f'Loss: {_loss_d:.4f}')\n",
    "        sys.stderr.flush()\n",
    "    # Stop training generator\n",
    "    if _loss_d * 2 < _loss_g:\n",
    "        train_g = False\n",
    "        sys.stderr.write(f'Generator stopped training!'\n",
    "                         f'Loss: {_loss_g:.4f}')\n",
    "        sys.stderr.flush()\n",
    "    \n",
    "    # Train discriminator\n",
    "    if train_d:\n",
    "        sess.run(optimizer_d, feed_dict=feed_dict)\n",
    "    # Train generator\n",
    "    if train_g:\n",
    "        sess.run(optimizer_g, feed_dict=feed_dict)\n",
    "    \n",
    "    # Save model & Graph summary\n",
    "    if i%save_interval == 0:\n",
    "        saver.save(sess=sess, save_path=save_model, global_step=g_global_step)\n",
    "        summary = sess.run(merged, feed_dict=feed_dict)\n",
    "        writer.add_summary(summary=summary, global_step=_g_global)\n",
    "    # Log generated images @ intervals\n",
    "    if i%log_interval == 0:\n",
    "        randoms = np.random.uniform(low=0.0, hight=1.0, size=[9, n_noise])\n",
    "        gen_imgs = generator(randoms, is_training=False)\n",
    "        imgs = sess.run(gen_imgs, feed_dict={noise: randoms})\n",
    "        visualize(imgs, name=f'Iteration: {i+1}', smooth=True, cmap='gray')\n",
    "    sys.stdout.write(f'\\rIter: {i+1:,}\\tg_Global: {_g_global:,}\\td_Global: {_d_global:,}\\t'\n",
    "                     f'Discriminator »»» Real: {_d_real:.2f}\\tFake: {_d_fake:.2f}\\tLoss: {_loss_d:.2f}'\n",
    "                     f'Generator »»» Loss: {_loss_g:.2f}')\n",
    "    sys.stdout.flush()"
   ]
  },
  {
   "cell_type": "code",
   "execution_count": null,
   "metadata": {
    "collapsed": true
   },
   "outputs": [],
   "source": []
  },
  {
   "cell_type": "code",
   "execution_count": null,
   "metadata": {
    "collapsed": true
   },
   "outputs": [],
   "source": []
  }
 ],
 "metadata": {
  "kernelspec": {
   "display_name": "Python 3",
   "language": "python",
   "name": "python3"
  },
  "language_info": {
   "codemirror_mode": {
    "name": "ipython",
    "version": 3
   },
   "file_extension": ".py",
   "mimetype": "text/x-python",
   "name": "python",
   "nbconvert_exporter": "python",
   "pygments_lexer": "ipython3",
   "version": "3.6.3"
  }
 },
 "nbformat": 4,
 "nbformat_minor": 2
}
