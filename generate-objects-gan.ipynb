{
 "cells": [
  {
   "cell_type": "markdown",
   "metadata": {},
   "source": [
    "# Generating new Objects w/ `Generative Adversarial Network (GAN)`\n",
    "\n",
    "### Import dependencies"
   ]
  },
  {
   "cell_type": "code",
   "execution_count": 1,
   "metadata": {
    "collapsed": true
   },
   "outputs": [],
   "source": [
    "import os\n",
    "import sys\n",
    "import datetime as dt\n",
    "\n",
    "import numpy as np\n",
    "import tensorflow as tf\n",
    "\n",
    "%matplotlib inline"
   ]
  },
  {
   "cell_type": "code",
   "execution_count": 2,
   "metadata": {
    "collapsed": false
   },
   "outputs": [
    {
     "name": "stdout",
     "output_type": "stream",
     "text": [
      "Extracting datasets/MNIST/train-images-idx3-ubyte.gz\n",
      "Extracting datasets/MNIST/train-labels-idx1-ubyte.gz\n",
      "Extracting datasets/MNIST/t10k-images-idx3-ubyte.gz\n",
      "Extracting datasets/MNIST/t10k-labels-idx1-ubyte.gz\n"
     ]
    }
   ],
   "source": [
    "from tensorflow.examples.tutorials.mnist import input_data\n",
    "\n",
    "data_dir = 'datasets/MNIST/'\n",
    "data = input_data.read_data_sets(data_dir, one_hot=True)\n",
    "\n",
    "# from dataset import ImageDataset\n",
    "\n",
    "# data_dir = 'datasets/101_ObjectCategories/'\n",
    "# save_file = 'saved/data.pkl'\n",
    "\n",
    "# data = ImageDataset(data_dir=data_dir, size=24, grayscale=True, flatten=True)\n",
    "# data.create()\n",
    "# data.save(save_file=save_file, force=True)\n",
    "# # data = data.load(save_file=save_file)"
   ]
  },
  {
   "cell_type": "markdown",
   "metadata": {},
   "source": [
    "### Hyperparameters"
   ]
  },
  {
   "cell_type": "code",
   "execution_count": 3,
   "metadata": {
    "collapsed": false
   },
   "outputs": [
    {
     "name": "stdout",
     "output_type": "stream",
     "text": [
      "Images »»» Size: 28\tChannel: 1\tFlattened: 784\n"
     ]
    }
   ],
   "source": [
    "# Inputs\n",
    "img_size = 28    # data.size\n",
    "img_channel = 1  # data.channel\n",
    "img_size_flat = img_size * img_size * img_channel\n",
    "print(f'Images »»» Size: {img_size:,}\\tChannel: {img_channel:,}\\tFlattened: {img_size_flat:,}')"
   ]
  },
  {
   "cell_type": "code",
   "execution_count": 4,
   "metadata": {
    "collapsed": true
   },
   "outputs": [],
   "source": [
    "# Network\n",
    "kernel_size = 5\n",
    "n_noise     = 64\n",
    "keep_prob   = 0.8"
   ]
  },
  {
   "cell_type": "code",
   "execution_count": 5,
   "metadata": {
    "collapsed": true
   },
   "outputs": [],
   "source": [
    "# Training\n",
    "batch_size    = 24\n",
    "learning_rate = .01\n",
    "save_interval = 100\n",
    "log_interval  = 1000\n",
    "iterations    = 10000"
   ]
  },
  {
   "cell_type": "markdown",
   "metadata": {},
   "source": [
    "### Helpers"
   ]
  },
  {
   "cell_type": "code",
   "execution_count": 6,
   "metadata": {
    "collapsed": true
   },
   "outputs": [],
   "source": [
    "import matplotlib.pyplot as plt\n",
    "\n",
    "def visualize(imgs, name=None, smooth=False, **kwargs):\n",
    "    # Plot images in grid\n",
    "    grid = int(np.sqrt(len(imgs)))\n",
    "    # Create figure with sub-plots.\n",
    "    fig, axes = plt.subplots(grid, grid)\n",
    "    fig.subplots_adjust(hspace=0.3, wspace=0.3)\n",
    "\n",
    "    for i, ax in enumerate(axes.flat):\n",
    "        # Interpolation type.\n",
    "        interpolation = 'spline16' if smooth else 'nearest'\n",
    "        shape = [img_size, img_size]\n",
    "        ax.imshow(imgs[i].reshape(shape), interpolation=interpolation, **kwargs)\n",
    "        # Remove ticks from the plot.\n",
    "        ax.set_xticks([])\n",
    "        ax.set_yticks([])\n",
    "    if name:\n",
    "        plt.suptitle(name)\n",
    "    plt.show()"
   ]
  },
  {
   "cell_type": "code",
   "execution_count": 9,
   "metadata": {
    "collapsed": true
   },
   "outputs": [],
   "source": [
    "def lrelu(x, alpha=0.2):\n",
    "    return tf.maximum(x, tf.multiply(x, alpha))"
   ]
  },
  {
   "cell_type": "code",
   "execution_count": 10,
   "metadata": {
    "collapsed": true
   },
   "outputs": [],
   "source": [
    "def binary_cross_entropy(x, z, eps=1e-12):\n",
    "    return (-(x * tf.log(z + eps) + (1. - x) * tf.log(1. - z + eps)))"
   ]
  },
  {
   "cell_type": "markdown",
   "metadata": {},
   "source": [
    "### The Discriminator"
   ]
  },
  {
   "cell_type": "code",
   "execution_count": 15,
   "metadata": {
    "collapsed": true
   },
   "outputs": [],
   "source": [
    "def discriminator(X, reuse=None):\n",
    "    with tf.variable_scope('discriminator', reuse=reuse):\n",
    "        # reshape\n",
    "        net = tf.reshape([-1, img_size, img_size, img_channel])\n",
    "        # conv + dropout\n",
    "        net = tf.layers.conv2d(net, filters=64, kernel_size=5, strides=2, padding='SAME', activation=lrelu)\n",
    "        net = tf.nn.dropout(net, keep_prob=keep_prob)\n",
    "        # conv + dropout\n",
    "        net = tf.layers.conv2d(net, filters=64, kernel_size=5, strides=1, padding='SAME', activation=lrelu)\n",
    "        net = tf.nn.dropout(net, keep_prob=keep_prob)\n",
    "        # conv + dropout\n",
    "        net = tf.layers.conv2d(net, filters=64, kernel_size=5, strides=1, padding='SAME', activation=lrelu)\n",
    "        net = tf.nn.dropout(net, keep_prob=keep_prob)\n",
    "        # flatten\n",
    "        net = tf.contrib.layers.flatten(net)\n",
    "        # 2 fully connected layers\n",
    "        net = tf.layers.dense(net, units=128, activation=lrelu)\n",
    "        net = tf.layers.dense(net, units=1, activation=tf.nn.sigmoid)\n",
    "        return net"
   ]
  },
  {
   "cell_type": "markdown",
   "metadata": {},
   "source": [
    "### The Generator"
   ]
  },
  {
   "cell_type": "code",
   "execution_count": 16,
   "metadata": {
    "collapsed": true
   },
   "outputs": [],
   "source": [
    "def generator(noise, is_training=False):\n",
    "    decay = 0.99\n",
    "    with tf.variable_scope('generator'):\n",
    "        net = noise\n",
    "        d1 = 4\n",
    "        d2 = 1\n",
    "        # fully connected + dropout + batch norm\n",
    "        net = tf.layers.dense(net, units=d1*d1*d2, activation=lrelu)\n",
    "        net = tf.nn.dropout(net, keep_prob=keep_prob)\n",
    "        net = tf.contrib.layers.batch_norm(net, decay=decay, is_training=is_training)\n",
    "        # reshape + resize\n",
    "        net = tf.reshape(net, shape=[-1, d1, d1, d2])\n",
    "        net = tf.image.resize_images(net, size=[7, 7])\n",
    "        # conv transpose + dropout + batch_norm\n",
    "        net = tf.layers.conv2d_transpose(net, filters=64, kernel_size=5, strides=2, padding='SAME', activation=lrelu)\n",
    "        net = tf.nn.dropout(net, keep_prob=keep_prob)\n",
    "        net = tf.contrib.layers.batch_norm(net, decay=decay, is_training=is_training)\n",
    "        # conv transpose + dropout + batch_norm\n",
    "        net = tf.layers.conv2d_transpose(net, filters=64, kernel_size=5, strides=2, padding='SAME', activation=lrelu)\n",
    "        net = tf.nn.dropout(net, keep_prob=keep_prob)\n",
    "        net = tf.contrib.layers.batch_norm(net, decay=decay, is_training=is_training)\n",
    "        # conv transpose + dropout + batch_norm\n",
    "        net = tf.layers.conv2d_transpose(net, filters=64, kernel_size=5, strides=1, padding='SAME', activation=lrelu)\n",
    "        net = tf.nn.dropout(net, keep_prob=keep_prob)\n",
    "        net = tf.contrib.layers.batch_norm(net, decay=decay, is_training=is_training)\n",
    "        # conv transpose\n",
    "        net = tf.layers.conv2d_transpose(net, filters=64, kernel_size=5, strides=1, padding='SAME', activation=tf.nn.sigmoid)\n",
    "        return net"
   ]
  },
  {
   "cell_type": "code",
   "execution_count": null,
   "metadata": {
    "collapsed": true
   },
   "outputs": [],
   "source": []
  }
 ],
 "metadata": {
  "kernelspec": {
   "display_name": "Python 3",
   "language": "python",
   "name": "python3"
  },
  "language_info": {
   "codemirror_mode": {
    "name": "ipython",
    "version": 3
   },
   "file_extension": ".py",
   "mimetype": "text/x-python",
   "name": "python",
   "nbconvert_exporter": "python",
   "pygments_lexer": "ipython3",
   "version": "3.6.3"
  }
 },
 "nbformat": 4,
 "nbformat_minor": 2
}
